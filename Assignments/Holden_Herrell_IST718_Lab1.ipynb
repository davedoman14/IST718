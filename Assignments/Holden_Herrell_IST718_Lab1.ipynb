{
 "cells": [
  {
   "cell_type": "code",
   "execution_count": 634,
   "metadata": {},
   "outputs": [],
   "source": [
    "import pandas as pd\n",
    "import numpy as np\n",
    "import matplotlib.pyplot as plt\n",
    "import seaborn as seabornInstance \n",
    "from sklearn.linear_model import LinearRegression\n",
    "from sklearn import metrics\n",
    "%matplotlib inline"
   ]
  },
  {
   "cell_type": "code",
   "execution_count": 635,
   "metadata": {},
   "outputs": [
    {
     "name": "stdout",
     "output_type": "stream",
     "text": [
      "                 ï»¿School Conference              Coach  SchoolPay  \\\n",
      "0    Air Force              Mt. West   Troy Calhoun       885000.0    \n",
      "1    Akron                  MAC        Terry Bowden       411000.0    \n",
      "2    Alabama                SEC        Nick Saban         8307000.0   \n",
      "3    Alabama at Birmingham  C-USA      Bill Clark         900000.0    \n",
      "4    Appalachian State      Sun Belt   Scott Satterfield  712500.0    \n",
      "..                 ...           ...                 ...       ...    \n",
      "124  West Virginia          Big 12     Dana Holgorsen     3605000.0   \n",
      "125  Western Kentucky       C-USA      Mike Sanford Jr.   800000.0    \n",
      "126  Western Michigan       MAC        Tim Lester         800000.0    \n",
      "127  Wisconsin              Big Ten    Paul Chryst        3750000.0   \n",
      "128  Wyoming                Mt. West   Craig Bohl         1412000.0   \n",
      "\n",
      "      TotalPay      Bonus  BonusPaid  AssistantPay      Buyout  \n",
      "0    885000.0   247000.0  NaN         0            NaN          \n",
      "1    412500.0   225000.0   50000.0    0             688500.0    \n",
      "2    8307000.0  1100000.0  500000.0   0             33600000.0  \n",
      "3    900000.0   950000.0   165471.0   0             3847500.0   \n",
      "4    712500.0   295000.0   145000.0   0             2160417.0   \n",
      "..        ...        ...        ...  ..                   ...   \n",
      "124  3617500.0  1000000.0  90000.0    0             7150000.0   \n",
      "125  805850.0   400000.0   0.0        0             1200000.0   \n",
      "126  800000.0   346500.0   39250.0    0             800000.0    \n",
      "127  3750000.0 NaN         290000.0   0             6000000.0   \n",
      "128  1412000.0  450000.0   236000.0   0             8016667.0   \n",
      "\n",
      "[129 rows x 9 columns]\n"
     ]
    }
   ],
   "source": [
    "#Bring in coaches data\n",
    "#Manually changed separator to pipes and removed commas from money data\n",
    "coaches=pd.read_csv(\"C:/Users/herre/Downloads/Coaches.csv\", sep=\"|\", engine='python')\n",
    "coachesDF=pd.DataFrame(coaches)\n",
    "print(coachesDF)"
   ]
  },
  {
   "cell_type": "code",
   "execution_count": 636,
   "metadata": {},
   "outputs": [
    {
     "name": "stdout",
     "output_type": "stream",
     "text": [
      "                    School Conference              Coach     Salary  \\\n",
      "0    Air Force              Mt. West   Troy Calhoun       885000.0    \n",
      "1    Akron                  MAC        Terry Bowden       411000.0    \n",
      "2    Alabama                SEC        Nick Saban         8307000.0   \n",
      "3    Alabama at Birmingham  C-USA      Bill Clark         900000.0    \n",
      "4    Appalachian State      Sun Belt   Scott Satterfield  712500.0    \n",
      "..                 ...           ...                 ...       ...    \n",
      "124  West Virginia          Big 12     Dana Holgorsen     3605000.0   \n",
      "125  Western Kentucky       C-USA      Mike Sanford Jr.   800000.0    \n",
      "126  Western Michigan       MAC        Tim Lester         800000.0    \n",
      "127  Wisconsin              Big Ten    Paul Chryst        3750000.0   \n",
      "128  Wyoming                Mt. West   Craig Bohl         1412000.0   \n",
      "\n",
      "      TotalPay      Bonus  BonusPaid  AssistantPay      Buyout  \n",
      "0    885000.0   247000.0  NaN         0            NaN          \n",
      "1    412500.0   225000.0   50000.0    0             688500.0    \n",
      "2    8307000.0  1100000.0  500000.0   0             33600000.0  \n",
      "3    900000.0   950000.0   165471.0   0             3847500.0   \n",
      "4    712500.0   295000.0   145000.0   0             2160417.0   \n",
      "..        ...        ...        ...  ..                   ...   \n",
      "124  3617500.0  1000000.0  90000.0    0             7150000.0   \n",
      "125  805850.0   400000.0   0.0        0             1200000.0   \n",
      "126  800000.0   346500.0   39250.0    0             800000.0    \n",
      "127  3750000.0 NaN         290000.0   0             6000000.0   \n",
      "128  1412000.0  450000.0   236000.0   0             8016667.0   \n",
      "\n",
      "[129 rows x 9 columns]\n"
     ]
    }
   ],
   "source": [
    "#Rename coaches columns\n",
    "coaches.rename(columns={'ï»¿School':'School','SchoolPay':'Salary'}, inplace=True)\n",
    "print(coaches)"
   ]
  },
  {
   "cell_type": "code",
   "execution_count": 637,
   "metadata": {},
   "outputs": [
    {
     "name": "stdout",
     "output_type": "stream",
     "text": [
      "                School Conference              Coach     Salary   TotalPay  \\\n",
      "0    Air Force          Mt. West   Troy Calhoun       885000.0   885000.0    \n",
      "1    Akron              MAC        Terry Bowden       411000.0   412500.0    \n",
      "2    Alabama            SEC        Nick Saban         8307000.0  8307000.0   \n",
      "3    UAB                C-USA      Bill Clark         900000.0   900000.0    \n",
      "4    Appalachian State  Sun Belt   Scott Satterfield  712500.0   712500.0    \n",
      "..                 ...       ...                 ...       ...        ...    \n",
      "124  West Virginia      Big 12     Dana Holgorsen     3605000.0  3617500.0   \n",
      "125  Western Kentucky   C-USA      Mike Sanford Jr.   800000.0   805850.0    \n",
      "126  Western Michigan   MAC        Tim Lester         800000.0   800000.0    \n",
      "127  Wisconsin          Big Ten    Paul Chryst        3750000.0  3750000.0   \n",
      "128  Wyoming            Mt. West   Craig Bohl         1412000.0  1412000.0   \n",
      "\n",
      "         Bonus  BonusPaid  AssistantPay      Buyout  \n",
      "0    247000.0  NaN         0            NaN          \n",
      "1    225000.0   50000.0    0             688500.0    \n",
      "2    1100000.0  500000.0   0             33600000.0  \n",
      "3    950000.0   165471.0   0             3847500.0   \n",
      "4    295000.0   145000.0   0             2160417.0   \n",
      "..        ...        ...  ..                   ...   \n",
      "124  1000000.0  90000.0    0             7150000.0   \n",
      "125  400000.0   0.0        0             1200000.0   \n",
      "126  346500.0   39250.0    0             800000.0    \n",
      "127 NaN         290000.0   0             6000000.0   \n",
      "128  450000.0   236000.0   0             8016667.0   \n",
      "\n",
      "[129 rows x 9 columns]\n"
     ]
    }
   ],
   "source": [
    "#Rename Schools to more commonly used name\n",
    "coaches=coaches.replace('Alabama at Birmingham','UAB')\n",
    "coaches=coaches.replace('Brigham Young','BYU')\n",
    "coaches=coaches.replace('Central Florida','UCF')\n",
    "coaches=coaches.replace('Connecticut','UConn')\n",
    "coaches=coaches.replace('Florida Atlantic','FAU')\n",
    "coaches=coaches.replace('Florida International','FIU')\n",
    "coaches=coaches.replace('Massachusetts','UMass')\n",
    "coaches=coaches.replace('Mississippi','Ole Miss')\n",
    "coaches=coaches.replace('Middle Tennessee','MTSU')\n",
    "coaches=coaches.replace('Nevada-Las Vegas','UNLV')\n",
    "coaches=coaches.replace('North Carolina State','NC State')\n",
    "coaches=coaches.replace('South Florida','USF')\n",
    "coaches=coaches.replace('Southern Methodist','SMU')\n",
    "coaches=coaches.replace('Texas Christian','TCU')\n",
    "coaches=coaches.replace('Texas-El Paso','UTEP')\n",
    "coaches=coaches.replace('Texas-San Antonio','UTSA')\n",
    "\n",
    "print(coaches)"
   ]
  },
  {
   "cell_type": "code",
   "execution_count": 638,
   "metadata": {},
   "outputs": [
    {
     "data": {
      "text/html": [
       "<div>\n",
       "<style scoped>\n",
       "    .dataframe tbody tr th:only-of-type {\n",
       "        vertical-align: middle;\n",
       "    }\n",
       "\n",
       "    .dataframe tbody tr th {\n",
       "        vertical-align: top;\n",
       "    }\n",
       "\n",
       "    .dataframe thead th {\n",
       "        text-align: right;\n",
       "    }\n",
       "</style>\n",
       "<table border=\"1\" class=\"dataframe\">\n",
       "  <thead>\n",
       "    <tr style=\"text-align: right;\">\n",
       "      <th></th>\n",
       "      <th>Salary</th>\n",
       "      <th>TotalPay</th>\n",
       "      <th>Bonus</th>\n",
       "      <th>BonusPaid</th>\n",
       "      <th>AssistantPay</th>\n",
       "      <th>Buyout</th>\n",
       "    </tr>\n",
       "  </thead>\n",
       "  <tbody>\n",
       "    <tr>\n",
       "      <td>count</td>\n",
       "      <td>1.250000e+02</td>\n",
       "      <td>1.250000e+02</td>\n",
       "      <td>1.070000e+02</td>\n",
       "      <td>8.800000e+01</td>\n",
       "      <td>129.0</td>\n",
       "      <td>1.070000e+02</td>\n",
       "    </tr>\n",
       "    <tr>\n",
       "      <td>mean</td>\n",
       "      <td>2.410301e+06</td>\n",
       "      <td>2.417061e+06</td>\n",
       "      <td>8.741782e+05</td>\n",
       "      <td>1.495243e+05</td>\n",
       "      <td>0.0</td>\n",
       "      <td>8.119107e+06</td>\n",
       "    </tr>\n",
       "    <tr>\n",
       "      <td>std</td>\n",
       "      <td>1.881377e+06</td>\n",
       "      <td>1.885752e+06</td>\n",
       "      <td>6.346974e+05</td>\n",
       "      <td>2.387579e+05</td>\n",
       "      <td>0.0</td>\n",
       "      <td>1.046135e+07</td>\n",
       "    </tr>\n",
       "    <tr>\n",
       "      <td>min</td>\n",
       "      <td>3.900000e+05</td>\n",
       "      <td>3.900000e+05</td>\n",
       "      <td>5.000000e+04</td>\n",
       "      <td>0.000000e+00</td>\n",
       "      <td>0.0</td>\n",
       "      <td>0.000000e+00</td>\n",
       "    </tr>\n",
       "    <tr>\n",
       "      <td>25%</td>\n",
       "      <td>8.015040e+05</td>\n",
       "      <td>8.058500e+05</td>\n",
       "      <td>3.950000e+05</td>\n",
       "      <td>1.937500e+04</td>\n",
       "      <td>0.0</td>\n",
       "      <td>1.200000e+06</td>\n",
       "    </tr>\n",
       "    <tr>\n",
       "      <td>50%</td>\n",
       "      <td>1.831580e+06</td>\n",
       "      <td>1.900008e+06</td>\n",
       "      <td>7.750000e+05</td>\n",
       "      <td>6.375000e+04</td>\n",
       "      <td>0.0</td>\n",
       "      <td>4.000000e+06</td>\n",
       "    </tr>\n",
       "    <tr>\n",
       "      <td>75%</td>\n",
       "      <td>3.605000e+06</td>\n",
       "      <td>3.617500e+06</td>\n",
       "      <td>1.150000e+06</td>\n",
       "      <td>1.800000e+05</td>\n",
       "      <td>0.0</td>\n",
       "      <td>1.106500e+07</td>\n",
       "    </tr>\n",
       "    <tr>\n",
       "      <td>max</td>\n",
       "      <td>8.307000e+06</td>\n",
       "      <td>8.307000e+06</td>\n",
       "      <td>3.100000e+06</td>\n",
       "      <td>1.350000e+06</td>\n",
       "      <td>0.0</td>\n",
       "      <td>6.812500e+07</td>\n",
       "    </tr>\n",
       "  </tbody>\n",
       "</table>\n",
       "</div>"
      ],
      "text/plain": [
       "             Salary      TotalPay         Bonus     BonusPaid  AssistantPay  \\\n",
       "count  1.250000e+02  1.250000e+02  1.070000e+02  8.800000e+01  129.0          \n",
       "mean   2.410301e+06  2.417061e+06  8.741782e+05  1.495243e+05  0.0            \n",
       "std    1.881377e+06  1.885752e+06  6.346974e+05  2.387579e+05  0.0            \n",
       "min    3.900000e+05  3.900000e+05  5.000000e+04  0.000000e+00  0.0            \n",
       "25%    8.015040e+05  8.058500e+05  3.950000e+05  1.937500e+04  0.0            \n",
       "50%    1.831580e+06  1.900008e+06  7.750000e+05  6.375000e+04  0.0            \n",
       "75%    3.605000e+06  3.617500e+06  1.150000e+06  1.800000e+05  0.0            \n",
       "max    8.307000e+06  8.307000e+06  3.100000e+06  1.350000e+06  0.0            \n",
       "\n",
       "             Buyout  \n",
       "count  1.070000e+02  \n",
       "mean   8.119107e+06  \n",
       "std    1.046135e+07  \n",
       "min    0.000000e+00  \n",
       "25%    1.200000e+06  \n",
       "50%    4.000000e+06  \n",
       "75%    1.106500e+07  \n",
       "max    6.812500e+07  "
      ]
     },
     "execution_count": 638,
     "metadata": {},
     "output_type": "execute_result"
    }
   ],
   "source": [
    "#Check coaches data\n",
    "coaches.describe()"
   ]
  },
  {
   "cell_type": "code",
   "execution_count": 639,
   "metadata": {},
   "outputs": [
    {
     "name": "stdout",
     "output_type": "stream",
     "text": [
      "                School Conference              Coach     Salary   TotalPay  \\\n",
      "0    Air Force          Mt. West   Troy Calhoun       885000.0   885000.0    \n",
      "1    Akron              MAC        Terry Bowden       411000.0   412500.0    \n",
      "2    Alabama            SEC        Nick Saban         8307000.0  8307000.0   \n",
      "3    UAB                C-USA      Bill Clark         900000.0   900000.0    \n",
      "4    Appalachian State  Sun Belt   Scott Satterfield  712500.0   712500.0    \n",
      "..                 ...       ...                 ...       ...        ...    \n",
      "124  West Virginia      Big 12     Dana Holgorsen     3605000.0  3617500.0   \n",
      "125  Western Kentucky   C-USA      Mike Sanford Jr.   800000.0   805850.0    \n",
      "126  Western Michigan   MAC        Tim Lester         800000.0   800000.0    \n",
      "127  Wisconsin          Big Ten    Paul Chryst        3750000.0  3750000.0   \n",
      "128  Wyoming            Mt. West   Craig Bohl         1412000.0  1412000.0   \n",
      "\n",
      "         Bonus  BonusPaid      Buyout  \n",
      "0    247000.0  NaN        NaN          \n",
      "1    225000.0   50000.0    688500.0    \n",
      "2    1100000.0  500000.0   33600000.0  \n",
      "3    950000.0   165471.0   3847500.0   \n",
      "4    295000.0   145000.0   2160417.0   \n",
      "..        ...        ...         ...   \n",
      "124  1000000.0  90000.0    7150000.0   \n",
      "125  400000.0   0.0        1200000.0   \n",
      "126  346500.0   39250.0    800000.0    \n",
      "127 NaN         290000.0   6000000.0   \n",
      "128  450000.0   236000.0   8016667.0   \n",
      "\n",
      "[129 rows x 8 columns]\n"
     ]
    }
   ],
   "source": [
    "#AssistantPay is 0 for all entries, so drop it\n",
    "coaches=coaches.drop(columns=['AssistantPay'])\n",
    "print(coaches)"
   ]
  },
  {
   "cell_type": "code",
   "execution_count": 640,
   "metadata": {},
   "outputs": [
    {
     "data": {
      "text/plain": [
       "School        0 \n",
       "Conference    0 \n",
       "Coach         0 \n",
       "Salary        4 \n",
       "TotalPay      4 \n",
       "Bonus         22\n",
       "BonusPaid     41\n",
       "Buyout        22\n",
       "dtype: int64"
      ]
     },
     "execution_count": 640,
     "metadata": {},
     "output_type": "execute_result"
    }
   ],
   "source": [
    "#Check data for missing values\n",
    "coaches.isnull().sum()"
   ]
  },
  {
   "cell_type": "code",
   "execution_count": 641,
   "metadata": {},
   "outputs": [
    {
     "name": "stdout",
     "output_type": "stream",
     "text": [
      "                School Conference              Coach     Salary   TotalPay  \\\n",
      "0    Air Force          Mt. West   Troy Calhoun       885000.0   885000.0    \n",
      "1    Akron              MAC        Terry Bowden       411000.0   412500.0    \n",
      "2    Alabama            SEC        Nick Saban         8307000.0  8307000.0   \n",
      "3    UAB                C-USA      Bill Clark         900000.0   900000.0    \n",
      "4    Appalachian State  Sun Belt   Scott Satterfield  712500.0   712500.0    \n",
      "..                 ...       ...                 ...       ...        ...    \n",
      "124  West Virginia      Big 12     Dana Holgorsen     3605000.0  3617500.0   \n",
      "125  Western Kentucky   C-USA      Mike Sanford Jr.   800000.0   805850.0    \n",
      "126  Western Michigan   MAC        Tim Lester         800000.0   800000.0    \n",
      "127  Wisconsin          Big Ten    Paul Chryst        3750000.0  3750000.0   \n",
      "128  Wyoming            Mt. West   Craig Bohl         1412000.0  1412000.0   \n",
      "\n",
      "       Bonus  \n",
      "0    0.0      \n",
      "1    1500.0   \n",
      "2    0.0      \n",
      "3    0.0      \n",
      "4    0.0      \n",
      "..   ...      \n",
      "124  12500.0  \n",
      "125  5850.0   \n",
      "126  0.0      \n",
      "127  0.0      \n",
      "128  0.0      \n",
      "\n",
      "[129 rows x 6 columns]\n"
     ]
    }
   ],
   "source": [
    "#BonusPaid and Buyout are missing 15% or more values, so drop them\n",
    "coaches=coaches.drop(columns=['BonusPaid','Buyout'])\n",
    "#Bonus can be calculated by finding the difference between TotalPay and SchoolPay\n",
    "coaches.Bonus=coaches.TotalPay-coaches.Salary\n",
    "print(coaches)"
   ]
  },
  {
   "cell_type": "code",
   "execution_count": 642,
   "metadata": {},
   "outputs": [
    {
     "data": {
      "text/plain": [
       "School        0\n",
       "Conference    0\n",
       "Coach         0\n",
       "Salary        4\n",
       "TotalPay      4\n",
       "Bonus         4\n",
       "dtype: int64"
      ]
     },
     "execution_count": 642,
     "metadata": {},
     "output_type": "execute_result"
    }
   ],
   "source": [
    "#Recheck for missing data\n",
    "coaches.isnull().sum()"
   ]
  },
  {
   "cell_type": "code",
   "execution_count": 643,
   "metadata": {},
   "outputs": [
    {
     "data": {
      "text/html": [
       "<div>\n",
       "<style scoped>\n",
       "    .dataframe tbody tr th:only-of-type {\n",
       "        vertical-align: middle;\n",
       "    }\n",
       "\n",
       "    .dataframe tbody tr th {\n",
       "        vertical-align: top;\n",
       "    }\n",
       "\n",
       "    .dataframe thead th {\n",
       "        text-align: right;\n",
       "    }\n",
       "</style>\n",
       "<table border=\"1\" class=\"dataframe\">\n",
       "  <thead>\n",
       "    <tr style=\"text-align: right;\">\n",
       "      <th></th>\n",
       "      <th>School</th>\n",
       "      <th>Conference</th>\n",
       "      <th>Coach</th>\n",
       "      <th>Salary</th>\n",
       "      <th>TotalPay</th>\n",
       "      <th>Bonus</th>\n",
       "    </tr>\n",
       "  </thead>\n",
       "  <tbody>\n",
       "    <tr>\n",
       "      <td>12</td>\n",
       "      <td>Baylor</td>\n",
       "      <td>Big 12</td>\n",
       "      <td>Matt Rhule</td>\n",
       "      <td>NaN</td>\n",
       "      <td>NaN</td>\n",
       "      <td>NaN</td>\n",
       "    </tr>\n",
       "    <tr>\n",
       "      <td>16</td>\n",
       "      <td>BYU</td>\n",
       "      <td>Ind.</td>\n",
       "      <td>Kalani Sitake</td>\n",
       "      <td>NaN</td>\n",
       "      <td>NaN</td>\n",
       "      <td>NaN</td>\n",
       "    </tr>\n",
       "    <tr>\n",
       "      <td>91</td>\n",
       "      <td>Rice</td>\n",
       "      <td>C-USA</td>\n",
       "      <td>Mike Bloomgren</td>\n",
       "      <td>NaN</td>\n",
       "      <td>NaN</td>\n",
       "      <td>NaN</td>\n",
       "    </tr>\n",
       "    <tr>\n",
       "      <td>99</td>\n",
       "      <td>SMU</td>\n",
       "      <td>AAC</td>\n",
       "      <td>Sonny Dykes</td>\n",
       "      <td>NaN</td>\n",
       "      <td>NaN</td>\n",
       "      <td>NaN</td>\n",
       "    </tr>\n",
       "  </tbody>\n",
       "</table>\n",
       "</div>"
      ],
      "text/plain": [
       "    School Conference           Coach  Salary  TotalPay  Bonus\n",
       "12  Baylor  Big 12     Matt Rhule     NaN     NaN       NaN   \n",
       "16  BYU     Ind.       Kalani Sitake  NaN     NaN       NaN   \n",
       "91  Rice    C-USA      Mike Bloomgren NaN     NaN       NaN   \n",
       "99  SMU     AAC        Sonny Dykes    NaN     NaN       NaN   "
      ]
     },
     "execution_count": 643,
     "metadata": {},
     "output_type": "execute_result"
    }
   ],
   "source": [
    "#See what Schools haven't paid their coaches\n",
    "coaches[pd.isnull(coaches['TotalPay'])]"
   ]
  },
  {
   "cell_type": "code",
   "execution_count": 644,
   "metadata": {},
   "outputs": [
    {
     "data": {
      "text/plain": [
       "School        0\n",
       "Conference    0\n",
       "Coach         0\n",
       "Salary        0\n",
       "TotalPay      0\n",
       "Bonus         0\n",
       "dtype: int64"
      ]
     },
     "execution_count": 644,
     "metadata": {},
     "output_type": "execute_result"
    }
   ],
   "source": [
    "#No pay data for Baylor, BYU, Rice, and SMU coach, so drop those rows\n",
    "coaches=coaches.drop([12,16,91,99],axis=0)\n",
    "#Recheck for missing data\n",
    "coaches.isnull().sum()"
   ]
  },
  {
   "cell_type": "code",
   "execution_count": 645,
   "metadata": {},
   "outputs": [
    {
     "name": "stdout",
     "output_type": "stream",
     "text": [
      "ï»¿Stadium    object\n",
      "College       object\n",
      "Conference    object\n",
      "Capacity      int64 \n",
      "Opened        int64 \n",
      "dtype: object\n"
     ]
    }
   ],
   "source": [
    "#Bring in stadium data, taken from https://www.collegegridirons.com/comparisons-by-capacity/\n",
    "#Manually changed separator to pipes\n",
    "stadiumSize=pd.read_csv(\"C:/Users/herre/Downloads/StadiumSizes.csv\", sep=\"|\", engine='python')\n",
    "print(stadiumSize.dtypes)"
   ]
  },
  {
   "cell_type": "code",
   "execution_count": 646,
   "metadata": {},
   "outputs": [
    {
     "name": "stdout",
     "output_type": "stream",
     "text": [
      "                   ï»¿Stadium           College  Capacity  Opened\n",
      "0    Michigan Stadium          Michigan          107601    1927  \n",
      "1    Beaver Stadium            Penn State        106572    1960  \n",
      "2    Ohio Stadium              Ohio State        104944    1922  \n",
      "3    Kyle Field                Texas A&M         102733    1904  \n",
      "4    Neyland Stadium           Tennessee         102521    1921  \n",
      "..               ...                 ...            ...     ...  \n",
      "125  Foreman Field             Old Dominion      20118     1936  \n",
      "126  McGuirk Stadium           UMass             17000     1965  \n",
      "127  Kibbie Dome               Idaho             16000     1975  \n",
      "128  Jerry Richardson Stadium  Charlotte         15314     2013  \n",
      "129  Brooks Stadium            Coastal Carolina  15000     2003  \n",
      "\n",
      "[130 rows x 4 columns]\n"
     ]
    }
   ],
   "source": [
    "#Drop unneeded stadiumSize columns\n",
    "stadiumSize=stadiumSize.drop(columns=['Conference'])\n",
    "print(stadiumSize)"
   ]
  },
  {
   "cell_type": "code",
   "execution_count": 647,
   "metadata": {},
   "outputs": [
    {
     "name": "stdout",
     "output_type": "stream",
     "text": [
      "ï»¿Stadium    object\n",
      "College       object\n",
      "Capacity      int64 \n",
      "Opened        int64 \n",
      "dtype: object\n"
     ]
    }
   ],
   "source": [
    "#Add missing row for Liberty to stadiumSize, data taken from https://en.wikipedia.org/wiki/Williams_Stadium\n",
    "stadiumSize=stadiumSize.append(pd.Series(['Williams Stadium','Liberty',pd.to_numeric(25000),pd.to_numeric(1989)], index=stadiumSize.columns), ignore_index=True)\n",
    "print(stadiumSize.dtypes)"
   ]
  },
  {
   "cell_type": "code",
   "execution_count": 648,
   "metadata": {},
   "outputs": [],
   "source": [
    "#Calculate stadium age from year opened\n",
    "stadiumSize.Opened=2019-stadiumSize.Opened"
   ]
  },
  {
   "cell_type": "code",
   "execution_count": 649,
   "metadata": {
    "scrolled": true
   },
   "outputs": [
    {
     "name": "stdout",
     "output_type": "stream",
     "text": [
      "                      Stadium            School  StadiumCapacity  StadiumAge\n",
      "0    Michigan Stadium          Michigan          107601           92        \n",
      "1    Beaver Stadium            Penn State        106572           59        \n",
      "2    Ohio Stadium              Ohio State        104944           97        \n",
      "3    Kyle Field                Texas A&M         102733           115       \n",
      "4    Neyland Stadium           Tennessee         102521           98        \n",
      "..               ...                 ...            ...           ..        \n",
      "126  McGuirk Stadium           UMass             17000            54        \n",
      "127  Kibbie Dome               Idaho             16000            44        \n",
      "128  Jerry Richardson Stadium  Charlotte         15314            6         \n",
      "129  Brooks Stadium            Coastal Carolina  15000            16        \n",
      "130  Williams Stadium          Liberty           25000            30        \n",
      "\n",
      "[131 rows x 4 columns]\n"
     ]
    }
   ],
   "source": [
    "#Rename stadiumSize columns\n",
    "stadiumSize.rename(columns={'ï»¿Stadium':'Stadium', 'Capacity':'StadiumCapacity','College':'School','Opened':'StadiumAge'}, inplace=True)\n",
    "print(stadiumSize)"
   ]
  },
  {
   "cell_type": "code",
   "execution_count": 650,
   "metadata": {},
   "outputs": [
    {
     "data": {
      "text/plain": [
       "Stadium            0\n",
       "School             0\n",
       "StadiumCapacity    0\n",
       "StadiumAge         0\n",
       "dtype: int64"
      ]
     },
     "execution_count": 650,
     "metadata": {},
     "output_type": "execute_result"
    }
   ],
   "source": [
    "#Check for missing data\n",
    "stadiumSize.isnull().sum()"
   ]
  },
  {
   "cell_type": "code",
   "execution_count": 651,
   "metadata": {},
   "outputs": [
    {
     "name": "stdout",
     "output_type": "stream",
     "text": [
      "     ï»¿Cohort Year             School                           Conference  \\\n",
      "0    2012            Abilene Christian  Southland Conference                  \n",
      "1    2012            Alabama A&M        Southwestern AthleticConference       \n",
      "2    2012            Alabama State      Southwestern AthleticConference       \n",
      "3    2012            Alcorn State       Southwestern AthleticConference       \n",
      "4    2012            Appalachian State  Sun Belt Conference                   \n",
      "..    ...                          ...                  ...                   \n",
      "246  2012            Western Michigan   Mid-American Conference               \n",
      "247  2012            William & Mary     Colonial Athletic Association         \n",
      "248  2012            Wofford College    Southern Conference                   \n",
      "249  2012            Yale               The Ivy League                        \n",
      "250  2012            Youngstown State   Missouri Valley Football Conference   \n",
      "\n",
      "        Sport State  GSR   FGR  \n",
      "0    Football  TX    70   47.0  \n",
      "1    Football  AL    59   49.0  \n",
      "2    Football  AL    58   39.0  \n",
      "3    Football  MS    58   40.0  \n",
      "4    Football  NC    75   67.0  \n",
      "..        ...  ..    ..    ...  \n",
      "246  Football  MI    80   47.0  \n",
      "247  Football  VA    87   82.0  \n",
      "248  Football  SC    92   79.0  \n",
      "249  Football  CT    100 NaN    \n",
      "250  Football  OH    65   52.0  \n",
      "\n",
      "[251 rows x 7 columns]\n"
     ]
    }
   ],
   "source": [
    "#Bring in graudation rates data, taken https://web3.ncaa.org/aprsearch/gsrsearch\n",
    "#Manually changed separator to pipes, cleaned school names\n",
    "gradRates=pd.read_csv(\"C:/Users/herre/Downloads/GradRates.csv\", sep=\"|\", engine='python')\n",
    "print(gradRates)"
   ]
  },
  {
   "cell_type": "code",
   "execution_count": 652,
   "metadata": {},
   "outputs": [
    {
     "name": "stdout",
     "output_type": "stream",
     "text": [
      "                School  GSR   FGR\n",
      "0    Abilene Christian  70   47.0\n",
      "1    Alabama A&M        59   49.0\n",
      "2    Alabama State      58   39.0\n",
      "3    Alcorn State       58   40.0\n",
      "4    Appalachian State  75   67.0\n",
      "..                 ...  ..    ...\n",
      "246  Western Michigan   80   47.0\n",
      "247  William & Mary     87   82.0\n",
      "248  Wofford College    92   79.0\n",
      "249  Yale               100 NaN  \n",
      "250  Youngstown State   65   52.0\n",
      "\n",
      "[251 rows x 3 columns]\n"
     ]
    }
   ],
   "source": [
    "#Drop unneeded gradRates columns\n",
    "gradRates=gradRates.drop(columns=['ï»¿Cohort Year','Conference','Sport','State'])\n",
    "print(gradRates)"
   ]
  },
  {
   "cell_type": "code",
   "execution_count": 653,
   "metadata": {},
   "outputs": [
    {
     "name": "stdout",
     "output_type": "stream",
     "text": [
      "                School  2012GradSuccessRate  2012FedGradRate\n",
      "0    Abilene Christian  70                   47.0           \n",
      "1    Alabama A&M        59                   49.0           \n",
      "2    Alabama State      58                   39.0           \n",
      "3    Alcorn State       58                   40.0           \n",
      "4    Appalachian State  75                   67.0           \n",
      "..                 ...  ..                    ...           \n",
      "246  Western Michigan   80                   47.0           \n",
      "247  William & Mary     87                   82.0           \n",
      "248  Wofford College    92                   79.0           \n",
      "249  Yale               100                 NaN             \n",
      "250  Youngstown State   65                   52.0           \n",
      "\n",
      "[251 rows x 3 columns]\n"
     ]
    }
   ],
   "source": [
    "#Rename gradRates columns\n",
    "gradRates.rename(columns={'GSR':'2012GradSuccessRate','FGR':'2012FedGradRate'}, inplace=True)\n",
    "print(gradRates)"
   ]
  },
  {
   "cell_type": "code",
   "execution_count": 654,
   "metadata": {},
   "outputs": [
    {
     "data": {
      "text/plain": [
       "School                 0 \n",
       "2012GradSuccessRate    0 \n",
       "2012FedGradRate        19\n",
       "dtype: int64"
      ]
     },
     "execution_count": 654,
     "metadata": {},
     "output_type": "execute_result"
    }
   ],
   "source": [
    "#Check for missing data\n",
    "gradRates.isnull().sum()"
   ]
  },
  {
   "cell_type": "code",
   "execution_count": 655,
   "metadata": {},
   "outputs": [],
   "source": [
    "#Graduation performance is still captured by GSR, so drop FGR\n",
    "gradRates=gradRates.drop(columns=['2012FedGradRate'])"
   ]
  },
  {
   "cell_type": "code",
   "execution_count": 656,
   "metadata": {},
   "outputs": [
    {
     "name": "stdout",
     "output_type": "stream",
     "text": [
      "      Rk           Coach  From    To        Last School  Yrs    G    W   L  \\\n",
      "0     1   Eli Abbott      1902  1902  Alabama            1    8    4    4    \n",
      "1     2   Earl Abell      1928  1930  Virginia           3    28   14   12   \n",
      "2     3   Earl Able       1923  1924  Mississippi State  2    18   10   6    \n",
      "3     4   George Adams    1890  1892  Harvard            3    36   34   2    \n",
      "4     5   Hobbs Adams     1940  1946  Kansas State       3    27   4    21   \n",
      "...  ..           ...      ...   ...           ...      ..    ..  ..    ..   \n",
      "2166  3   Fred Zechman    1983  1985  New Mexico State   3    33   8    25   \n",
      "2167  4   Zimmie Zimoski  1924  1924  Millsaps           1    9    3    5    \n",
      "2168  5   G.G. Zitrides   1950  1950  Brown              1    9    1    8    \n",
      "2169  6   Ron Zook        2002  2011  Illinois           10   122  57   65   \n",
      "2170  7   Robert Zuppke   1913  1941  Illinois           29   224  131  81   \n",
      "\n",
      "       T    Pct  BG  BW  BL  BT  BPct                              Notes  \n",
      "0     0   0.500  0   0   0   0  NaN    NaN                                \n",
      "1     2   0.536  0   0   0   0  NaN    NaN                                \n",
      "2     2   0.611  0   0   0   0  NaN    NaN                                \n",
      "3     0   0.944  0   0   0   0  NaN    NaN                                \n",
      "4     2   0.185  0   0   0   0  NaN    NaN                                \n",
      "...  ..     ... ..  ..  ..  ..   ..    ...                                \n",
      "2166  0   0.242  0   0   0   0  NaN    record adjusted to 9-24-0 by NCAA  \n",
      "2167  1   0.389  0   0   0   0  NaN    NaN                                \n",
      "2168  0   0.111  0   0   0   0  NaN    NaN                                \n",
      "2169  0   0.467  4   1   3   0   0.25  NaN                                \n",
      "2170  12  0.612  0   0   0   0  NaN    NaN                                \n",
      "\n",
      "[2171 rows x 17 columns]\n"
     ]
    }
   ],
   "source": [
    "#Bring in coach stats data, taken from https://www.sports-reference.com/cfb/coaches/\n",
    "#Manually combined data into csv\n",
    "coachStats=pd.read_csv(\"C:/Users/herre/Downloads/CoachStats.csv\", sep=\"|\", engine='python')\n",
    "print(coachStats)"
   ]
  },
  {
   "cell_type": "code",
   "execution_count": 657,
   "metadata": {},
   "outputs": [],
   "source": [
    "#Replace Notes with calculated Wins per Year (W/Yrs)\n",
    "coachStats.Notes=coachStats.W/coachStats.Yrs"
   ]
  },
  {
   "cell_type": "code",
   "execution_count": 658,
   "metadata": {},
   "outputs": [
    {
     "name": "stdout",
     "output_type": "stream",
     "text": [
      "               Coach  Yrs    G    W   L   T    Pct  BG  BW  BL  BT  BPct  \\\n",
      "0     Eli Abbott      1    8    4    4   0   0.500  0   0   0   0  NaN     \n",
      "1     Earl Abell      3    28   14   12  2   0.536  0   0   0   0  NaN     \n",
      "2     Earl Able       2    18   10   6   2   0.611  0   0   0   0  NaN     \n",
      "3     George Adams    3    36   34   2   0   0.944  0   0   0   0  NaN     \n",
      "4     Hobbs Adams     3    27   4    21  2   0.185  0   0   0   0  NaN     \n",
      "...           ...    ..    ..  ..    .. ..     ... ..  ..  ..  ..   ..     \n",
      "2166  Fred Zechman    3    33   8    25  0   0.242  0   0   0   0  NaN     \n",
      "2167  Zimmie Zimoski  1    9    3    5   1   0.389  0   0   0   0  NaN     \n",
      "2168  G.G. Zitrides   1    9    1    8   0   0.111  0   0   0   0  NaN     \n",
      "2169  Ron Zook        10   122  57   65  0   0.467  4   1   3   0   0.25   \n",
      "2170  Robert Zuppke   29   224  131  81  12  0.612  0   0   0   0  NaN     \n",
      "\n",
      "          Notes  \n",
      "0     4.000000   \n",
      "1     4.666667   \n",
      "2     5.000000   \n",
      "3     11.333333  \n",
      "4     1.333333   \n",
      "...        ...   \n",
      "2166  2.666667   \n",
      "2167  3.000000   \n",
      "2168  1.000000   \n",
      "2169  5.700000   \n",
      "2170  4.517241   \n",
      "\n",
      "[2171 rows x 13 columns]\n"
     ]
    }
   ],
   "source": [
    "#Drop unneeded coachStats columns\n",
    "coachStats=coachStats.drop(columns=['Rk','From','To','Last School'])\n",
    "print(coachStats)"
   ]
  },
  {
   "cell_type": "code",
   "execution_count": 659,
   "metadata": {},
   "outputs": [
    {
     "name": "stdout",
     "output_type": "stream",
     "text": [
      "               Coach  YearsCoached  Games  Wins  Losses  Ties  WinPercentage  \\\n",
      "0     Eli Abbott      1             8      4     4       0     0.500           \n",
      "1     Earl Abell      3             28     14    12      2     0.536           \n",
      "2     Earl Able       2             18     10    6       2     0.611           \n",
      "3     George Adams    3             36     34    2       0     0.944           \n",
      "4     Hobbs Adams     3             27     4     21      2     0.185           \n",
      "...           ...    ..             ..    ..     ..     ..       ...           \n",
      "2166  Fred Zechman    3             33     8     25      0     0.242           \n",
      "2167  Zimmie Zimoski  1             9      3     5       1     0.389           \n",
      "2168  G.G. Zitrides   1             9      1     8       0     0.111           \n",
      "2169  Ron Zook        10            122    57    65      0     0.467           \n",
      "2170  Robert Zuppke   29            224    131   81      12    0.612           \n",
      "\n",
      "      BowlGames  BowlWins  BowlLosses  BowlTies  BowlWinPercentage  \\\n",
      "0     0          0         0           0        NaN                  \n",
      "1     0          0         0           0        NaN                  \n",
      "2     0          0         0           0        NaN                  \n",
      "3     0          0         0           0        NaN                  \n",
      "4     0          0         0           0        NaN                  \n",
      "...  ..         ..        ..          ..         ..                  \n",
      "2166  0          0         0           0        NaN                  \n",
      "2167  0          0         0           0        NaN                  \n",
      "2168  0          0         0           0        NaN                  \n",
      "2169  4          1         3           0         0.25                \n",
      "2170  0          0         0           0        NaN                  \n",
      "\n",
      "      WinsPerYear  \n",
      "0     4.000000     \n",
      "1     4.666667     \n",
      "2     5.000000     \n",
      "3     11.333333    \n",
      "4     1.333333     \n",
      "...        ...     \n",
      "2166  2.666667     \n",
      "2167  3.000000     \n",
      "2168  1.000000     \n",
      "2169  5.700000     \n",
      "2170  4.517241     \n",
      "\n",
      "[2171 rows x 13 columns]\n"
     ]
    }
   ],
   "source": [
    "#Rename coachStats columns\n",
    "coachStats.rename(columns={'Yrs':'YearsCoached','G':'Games','W':'Wins','L':'Losses','T':'Ties','Pct':'WinPercentage','BG':'BowlGames','BW':'BowlWins','BL':'BowlLosses','BT':'BowlTies','BPct':'BowlWinPercentage','Notes':'WinsPerYear'}, inplace=True)\n",
    "print(coachStats)"
   ]
  },
  {
   "cell_type": "code",
   "execution_count": 660,
   "metadata": {},
   "outputs": [
    {
     "data": {
      "text/plain": [
       "Coach                0   \n",
       "YearsCoached         0   \n",
       "Games                0   \n",
       "Wins                 0   \n",
       "Losses               0   \n",
       "Ties                 0   \n",
       "WinPercentage        0   \n",
       "BowlGames            0   \n",
       "BowlWins             0   \n",
       "BowlLosses           0   \n",
       "BowlTies             0   \n",
       "BowlWinPercentage    1488\n",
       "WinsPerYear          0   \n",
       "dtype: int64"
      ]
     },
     "execution_count": 660,
     "metadata": {},
     "output_type": "execute_result"
    }
   ],
   "source": [
    "#Check coach stats data for missing values\n",
    "coachStats.isnull().sum()"
   ]
  },
  {
   "cell_type": "code",
   "execution_count": 661,
   "metadata": {},
   "outputs": [
    {
     "name": "stdout",
     "output_type": "stream",
     "text": [
      "               Coach  YearsCoached  Games  Wins  Losses  Ties  WinPercentage  \\\n",
      "0     Eli Abbott      1             8      4     4       0     0.500           \n",
      "1     Earl Abell      3             28     14    12      2     0.536           \n",
      "2     Earl Able       2             18     10    6       2     0.611           \n",
      "3     George Adams    3             36     34    2       0     0.944           \n",
      "4     Hobbs Adams     3             27     4     21      2     0.185           \n",
      "...           ...    ..             ..    ..     ..     ..       ...           \n",
      "2166  Fred Zechman    3             33     8     25      0     0.242           \n",
      "2167  Zimmie Zimoski  1             9      3     5       1     0.389           \n",
      "2168  G.G. Zitrides   1             9      1     8       0     0.111           \n",
      "2169  Ron Zook        10            122    57    65      0     0.467           \n",
      "2170  Robert Zuppke   29            224    131   81      12    0.612           \n",
      "\n",
      "      BowlGames  BowlWins  BowlLosses  BowlTies  BowlWinPercentage  \\\n",
      "0     0          0         0           0        NaN                  \n",
      "1     0          0         0           0        NaN                  \n",
      "2     0          0         0           0        NaN                  \n",
      "3     0          0         0           0        NaN                  \n",
      "4     0          0         0           0        NaN                  \n",
      "...  ..         ..        ..          ..         ..                  \n",
      "2166  0          0         0           0        NaN                  \n",
      "2167  0          0         0           0        NaN                  \n",
      "2168  0          0         0           0        NaN                  \n",
      "2169  4          1         3           0         0.25                \n",
      "2170  0          0         0           0        NaN                  \n",
      "\n",
      "      WinsPerYear  \n",
      "0     4.000000     \n",
      "1     4.666667     \n",
      "2     5.000000     \n",
      "3     11.333333    \n",
      "4     1.333333     \n",
      "...        ...     \n",
      "2166  2.666667     \n",
      "2167  3.000000     \n",
      "2168  1.000000     \n",
      "2169  5.700000     \n",
      "2170  4.517241     \n",
      "\n",
      "[2171 rows x 13 columns]\n"
     ]
    }
   ],
   "source": [
    "#BowlWinPercentage can be calculated by dividing BowlWins by BowlGames\n",
    "coachStats.BowlWinPercentage=(coachStats.BowlWins/coachStats.BowlGames)\n",
    "print(coachStats)"
   ]
  },
  {
   "cell_type": "code",
   "execution_count": 662,
   "metadata": {},
   "outputs": [
    {
     "data": {
      "text/plain": [
       "Coach                0   \n",
       "YearsCoached         0   \n",
       "Games                0   \n",
       "Wins                 0   \n",
       "Losses               0   \n",
       "Ties                 0   \n",
       "WinPercentage        0   \n",
       "BowlGames            0   \n",
       "BowlWins             0   \n",
       "BowlLosses           0   \n",
       "BowlTies             0   \n",
       "BowlWinPercentage    1488\n",
       "WinsPerYear          0   \n",
       "dtype: int64"
      ]
     },
     "execution_count": 662,
     "metadata": {},
     "output_type": "execute_result"
    }
   ],
   "source": [
    "coachStats.isnull().sum()"
   ]
  },
  {
   "cell_type": "code",
   "execution_count": 663,
   "metadata": {},
   "outputs": [
    {
     "name": "stdout",
     "output_type": "stream",
     "text": [
      "    ï»¿RANK           TEAM   G  TDS  PAT  2PT  DEF PTS  FG  SAF  PTS   PPG\n",
      "0    1       LSU            15  95   89   1    0        21  1    726  48.4\n",
      "1    2       Alabama        13  83   80   0    0        12  0    614  47.2\n",
      "2    3       Ohio State     14  88   87   0    0        13  1    656  46.9\n",
      "3    4       Clemson        15  88   85   2    0        14  0    659  43.9\n",
      "4    5       UCF            13  74   71   1    0        15  1    564  43.4\n",
      "..  ..       ...            ..  ..   ..  ..   ..        .. ..    ...   ...\n",
      "125  126     Northwestern   12  24   18   0    0        10  2    196  16.3\n",
      "126  127     Old Dominion   12  21   18   3    0        15  0    195  16.3\n",
      "127  128     Bowling Green  12  25   22   0    0        6   1    192  16.0\n",
      "128  129     Rutgers        12  18   18   0    0        11  0    159  13.3\n",
      "129  130     Akron          12  15   13   1    0        7   0    126  10.5\n",
      "\n",
      "[130 rows x 11 columns]\n"
     ]
    }
   ],
   "source": [
    "#Bring in 2019 offense stats data, taken from https://www.ncaa.com/stats/football/fbs/\n",
    "#Manually combined data into csv\n",
    "OStats=pd.read_csv(\"C:/Users/herre/Downloads/2019OffenseStats.csv\", sep=\"|\", engine='python')\n",
    "print(OStats)"
   ]
  },
  {
   "cell_type": "code",
   "execution_count": 664,
   "metadata": {},
   "outputs": [
    {
     "name": "stdout",
     "output_type": "stream",
     "text": [
      "              TEAM   G  TDS  PAT  2PT  DEF PTS  FG  SAF  PTS   PPG\n",
      "0    LSU            15  95   89   1    0        21  1    726  48.4\n",
      "1    Alabama        13  83   80   0    0        12  0    614  47.2\n",
      "2    Ohio State     14  88   87   0    0        13  1    656  46.9\n",
      "3    Clemson        15  88   85   2    0        14  0    659  43.9\n",
      "4    UCF            13  74   71   1    0        15  1    564  43.4\n",
      "..   ...            ..  ..   ..  ..   ..        .. ..    ...   ...\n",
      "125  Northwestern   12  24   18   0    0        10  2    196  16.3\n",
      "126  Old Dominion   12  21   18   3    0        15  0    195  16.3\n",
      "127  Bowling Green  12  25   22   0    0        6   1    192  16.0\n",
      "128  Rutgers        12  18   18   0    0        11  0    159  13.3\n",
      "129  Akron          12  15   13   1    0        7   0    126  10.5\n",
      "\n",
      "[130 rows x 10 columns]\n"
     ]
    }
   ],
   "source": [
    "#Drop unneeded OStats columns\n",
    "OStats=OStats.drop(columns=['ï»¿RANK'])\n",
    "print(OStats)"
   ]
  },
  {
   "cell_type": "code",
   "execution_count": 665,
   "metadata": {},
   "outputs": [
    {
     "name": "stdout",
     "output_type": "stream",
     "text": [
      "            School  2019Games  Touchdowns  ExtraPoints  2PT  DEF PTS  \\\n",
      "0    LSU            15         95          89           1    0         \n",
      "1    Alabama        13         83          80           0    0         \n",
      "2    Ohio State     14         88          87           0    0         \n",
      "3    Clemson        15         88          85           2    0         \n",
      "4    UCF            13         74          71           1    0         \n",
      "..   ...            ..         ..          ..          ..   ..         \n",
      "125  Northwestern   12         24          18           0    0         \n",
      "126  Old Dominion   12         21          18           3    0         \n",
      "127  Bowling Green  12         25          22           0    0         \n",
      "128  Rutgers        12         18          18           0    0         \n",
      "129  Akron          12         15          13           1    0         \n",
      "\n",
      "     FieldGoals  Safeties  TotalPoints  PointsPerGame  \n",
      "0    21          1         726          48.4           \n",
      "1    12          0         614          47.2           \n",
      "2    13          1         656          46.9           \n",
      "3    14          0         659          43.9           \n",
      "4    15          1         564          43.4           \n",
      "..   ..         ..         ...           ...           \n",
      "125  10          2         196          16.3           \n",
      "126  15          0         195          16.3           \n",
      "127  6           1         192          16.0           \n",
      "128  11          0         159          13.3           \n",
      "129  7           0         126          10.5           \n",
      "\n",
      "[130 rows x 10 columns]\n"
     ]
    }
   ],
   "source": [
    "#Rename Otats columns\n",
    "OStats.rename(columns={'TEAM':'School','G':'2019Games','TDS':'Touchdowns','PAT':'ExtraPoints','FG':'FieldGoals','SAF':'Safeties','PTS':'TotalPoints','PPG':'PointsPerGame'}, inplace=True)\n",
    "print(OStats)"
   ]
  },
  {
   "cell_type": "code",
   "execution_count": 666,
   "metadata": {},
   "outputs": [
    {
     "name": "stdout",
     "output_type": "stream",
     "text": [
      "    ï»¿RANK              TEAM   G  TDS  OPP XP  2PT  OPP DXP  OPP FGM  \\\n",
      "0    1       Georgia           14  20   20      0    0        12        \n",
      "1    2       San Diego State   13  19   17      2    0        10        \n",
      "2    3       Clemson           15  24   23      0    0        12        \n",
      "3    4       Ohio State        14  23   19      3    0        9         \n",
      "4    5       Iowa              13  21   20      0    0        12        \n",
      "..  ..        ...              ..  ..   ..     ..   ..        ..        \n",
      "125  126     Bowling Green     12  62   61      0    0        10        \n",
      "126  127     Louisiana-Monroe  12  61   57      1    0        13        \n",
      "127  128     UConn             12  67   66      0    0        6         \n",
      "128  129     New Mexico State  12  61   55      1    0        23        \n",
      "129  130     UMass             12  86   84      1    0        10        \n",
      "\n",
      "     OPP SAF  PTS   AVG  \n",
      "0    0        176  12.6  \n",
      "1    0        165  12.7  \n",
      "2    0        203  13.5  \n",
      "3    1        192  13.7  \n",
      "4    0        182  14.0  \n",
      "..  ..        ...   ...  \n",
      "125  0        463  38.6  \n",
      "126  0        464  38.7  \n",
      "127  0        486  40.5  \n",
      "128  0        492  41.0  \n",
      "129  0        632  52.7  \n",
      "\n",
      "[130 rows x 11 columns]\n"
     ]
    }
   ],
   "source": [
    "#Bring in 2019 defense stats data, taken from https://www.ncaa.com/stats/football/fbs/\n",
    "#Manually combined data into csv\n",
    "DStats=pd.read_csv(\"C:/Users/herre/Downloads/2019DefenseStats.csv\", sep=\"|\", engine='python')\n",
    "print(DStats)"
   ]
  },
  {
   "cell_type": "code",
   "execution_count": 667,
   "metadata": {},
   "outputs": [
    {
     "name": "stdout",
     "output_type": "stream",
     "text": [
      "                 TEAM   G  TDS  OPP XP  2PT  OPP DXP  OPP FGM  OPP SAF  PTS  \\\n",
      "0    Georgia           14  20   20      0    0        12       0        176   \n",
      "1    San Diego State   13  19   17      2    0        10       0        165   \n",
      "2    Clemson           15  24   23      0    0        12       0        203   \n",
      "3    Ohio State        14  23   19      3    0        9        1        192   \n",
      "4    Iowa              13  21   20      0    0        12       0        182   \n",
      "..    ...              ..  ..   ..     ..   ..        ..      ..        ...   \n",
      "125  Bowling Green     12  62   61      0    0        10       0        463   \n",
      "126  Louisiana-Monroe  12  61   57      1    0        13       0        464   \n",
      "127  UConn             12  67   66      0    0        6        0        486   \n",
      "128  New Mexico State  12  61   55      1    0        23       0        492   \n",
      "129  UMass             12  86   84      1    0        10       0        632   \n",
      "\n",
      "      AVG  \n",
      "0    12.6  \n",
      "1    12.7  \n",
      "2    13.5  \n",
      "3    13.7  \n",
      "4    14.0  \n",
      "..    ...  \n",
      "125  38.6  \n",
      "126  38.7  \n",
      "127  40.5  \n",
      "128  41.0  \n",
      "129  52.7  \n",
      "\n",
      "[130 rows x 10 columns]\n"
     ]
    }
   ],
   "source": [
    "#Drop unneeded DStats columns\n",
    "DStats=DStats.drop(columns=['ï»¿RANK'])\n",
    "print(DStats)"
   ]
  },
  {
   "cell_type": "code",
   "execution_count": 668,
   "metadata": {},
   "outputs": [
    {
     "name": "stdout",
     "output_type": "stream",
     "text": [
      "               School  2019Games  TouchdownsAllowed  OPP XP  2PTAllowed  \\\n",
      "0    Georgia           14         20                 20      0            \n",
      "1    San Diego State   13         19                 17      2            \n",
      "2    Clemson           15         24                 23      0            \n",
      "3    Ohio State        14         23                 19      3            \n",
      "4    Iowa              13         21                 20      0            \n",
      "..    ...              ..         ..                 ..     ..            \n",
      "125  Bowling Green     12         62                 61      0            \n",
      "126  Louisiana-Monroe  12         61                 57      1            \n",
      "127  UConn             12         67                 66      0            \n",
      "128  New Mexico State  12         61                 55      1            \n",
      "129  UMass             12         86                 84      1            \n",
      "\n",
      "     OPP DXP  OPP FGM  SafetiesAllowed  TotalPointsAllowed  \\\n",
      "0    0        12       0                176                  \n",
      "1    0        10       0                165                  \n",
      "2    0        12       0                203                  \n",
      "3    0        9        1                192                  \n",
      "4    0        12       0                182                  \n",
      "..  ..        ..      ..                ...                  \n",
      "125  0        10       0                463                  \n",
      "126  0        13       0                464                  \n",
      "127  0        6        0                486                  \n",
      "128  0        23       0                492                  \n",
      "129  0        10       0                632                  \n",
      "\n",
      "     PointsPerGameAllowed  \n",
      "0    12.6                  \n",
      "1    12.7                  \n",
      "2    13.5                  \n",
      "3    13.7                  \n",
      "4    14.0                  \n",
      "..    ...                  \n",
      "125  38.6                  \n",
      "126  38.7                  \n",
      "127  40.5                  \n",
      "128  41.0                  \n",
      "129  52.7                  \n",
      "\n",
      "[130 rows x 10 columns]\n"
     ]
    }
   ],
   "source": [
    "#Rename Dtats columns\n",
    "DStats.rename(columns={'ï»¿RANK':'Rank','TEAM':'School','G':'2019Games','TDS':'TouchdownsAllowed','XP':'ExtraPointsAllowed','FGM':'FieldGoalsAllowed','2PT':'2PTAllowed','OPP SAF':'SafetiesAllowed','PTS':'TotalPointsAllowed','AVG':'PointsPerGameAllowed'}, inplace=True)\n",
    "print(DStats)"
   ]
  },
  {
   "cell_type": "code",
   "execution_count": 669,
   "metadata": {
    "scrolled": false
   },
   "outputs": [
    {
     "name": "stdout",
     "output_type": "stream",
     "text": [
      "                School Conference              Coach     Salary   TotalPay  \\\n",
      "0    Air Force          Mt. West   Troy Calhoun       885000.0   885000.0    \n",
      "1    Akron              MAC        Terry Bowden       411000.0   412500.0    \n",
      "2    Alabama            SEC        Nick Saban         8307000.0  8307000.0   \n",
      "3    UAB                C-USA      Bill Clark         900000.0   900000.0    \n",
      "4    Appalachian State  Sun Belt   Scott Satterfield  712500.0   712500.0    \n",
      "..                 ...       ...                 ...       ...        ...    \n",
      "120  West Virginia      Big 12     Dana Holgorsen     3605000.0  3617500.0   \n",
      "121  Western Kentucky   C-USA      Mike Sanford Jr.   800000.0   805850.0    \n",
      "122  Western Michigan   MAC        Tim Lester         800000.0   800000.0    \n",
      "123  Wisconsin          Big Ten    Paul Chryst        3750000.0  3750000.0   \n",
      "124  Wyoming            Mt. West   Craig Bohl         1412000.0  1412000.0   \n",
      "\n",
      "       Bonus               Stadium  StadiumCapacity  StadiumAge  \n",
      "0    0.0      Falcon Stadium        52237            57          \n",
      "1    1500.0   InfoCision Stadium    30000            10          \n",
      "2    0.0      Bryant Denny Stadium  101821           90          \n",
      "3    0.0      Legion Field          71594            92          \n",
      "4    0.0      Kidd Brewer Stadium   24150            57          \n",
      "..   ...                      ...     ...            ..          \n",
      "120  12500.0  Mountaineer Field     60000            39          \n",
      "121  5850.0   LT Smith Stadium      22113            51          \n",
      "122  0.0      Waldo Stadium         30200            80          \n",
      "123  0.0      Camp Randall Stadium  80321            102         \n",
      "124  0.0      War Memorial Stadium  29181            69          \n",
      "\n",
      "[125 rows x 9 columns]\n"
     ]
    }
   ],
   "source": [
    "#Merge coaches and stadiumSize\n",
    "coachesAgg=coaches.merge(stadiumSize, left_on='School',right_on='School')\n",
    "print(coachesAgg)"
   ]
  },
  {
   "cell_type": "code",
   "execution_count": 670,
   "metadata": {},
   "outputs": [
    {
     "name": "stdout",
     "output_type": "stream",
     "text": [
      "                School Conference              Coach     Salary   TotalPay  \\\n",
      "0    Air Force          Mt. West   Troy Calhoun       885000.0   885000.0    \n",
      "1    Akron              MAC        Terry Bowden       411000.0   412500.0    \n",
      "2    Alabama            SEC        Nick Saban         8307000.0  8307000.0   \n",
      "3    UAB                C-USA      Bill Clark         900000.0   900000.0    \n",
      "4    Appalachian State  Sun Belt   Scott Satterfield  712500.0   712500.0    \n",
      "..                 ...       ...                 ...       ...        ...    \n",
      "120  West Virginia      Big 12     Dana Holgorsen     3605000.0  3617500.0   \n",
      "121  Western Kentucky   C-USA      Mike Sanford Jr.   800000.0   805850.0    \n",
      "122  Western Michigan   MAC        Tim Lester         800000.0   800000.0    \n",
      "123  Wisconsin          Big Ten    Paul Chryst        3750000.0  3750000.0   \n",
      "124  Wyoming            Mt. West   Craig Bohl         1412000.0  1412000.0   \n",
      "\n",
      "       Bonus               Stadium  StadiumCapacity  StadiumAge  \\\n",
      "0    0.0      Falcon Stadium        52237            57           \n",
      "1    1500.0   InfoCision Stadium    30000            10           \n",
      "2    0.0      Bryant Denny Stadium  101821           90           \n",
      "3    0.0      Legion Field          71594            92           \n",
      "4    0.0      Kidd Brewer Stadium   24150            57           \n",
      "..   ...                      ...     ...            ..           \n",
      "120  12500.0  Mountaineer Field     60000            39           \n",
      "121  5850.0   LT Smith Stadium      22113            51           \n",
      "122  0.0      Waldo Stadium         30200            80           \n",
      "123  0.0      Camp Randall Stadium  80321            102          \n",
      "124  0.0      War Memorial Stadium  29181            69           \n",
      "\n",
      "     2012GradSuccessRate  \n",
      "0    80                   \n",
      "1    75                   \n",
      "2    85                   \n",
      "3    71                   \n",
      "4    75                   \n",
      "..   ..                   \n",
      "120  66                   \n",
      "121  71                   \n",
      "122  80                   \n",
      "123  90                   \n",
      "124  85                   \n",
      "\n",
      "[125 rows x 10 columns]\n"
     ]
    }
   ],
   "source": [
    "#Merge coaches and gradRates\n",
    "coachesAgg=coachesAgg.merge(gradRates, left_on='School',right_on='School')\n",
    "print(coachesAgg)"
   ]
  },
  {
   "cell_type": "code",
   "execution_count": 671,
   "metadata": {},
   "outputs": [
    {
     "name": "stdout",
     "output_type": "stream",
     "text": [
      "                School Conference              Coach     Salary   TotalPay  \\\n",
      "0    Air Force          Mt. West   Troy Calhoun       885000.0   885000.0    \n",
      "1    Akron              MAC        Terry Bowden       411000.0   412500.0    \n",
      "2    Alabama            SEC        Nick Saban         8307000.0  8307000.0   \n",
      "3    UAB                C-USA      Bill Clark         900000.0   900000.0    \n",
      "4    Appalachian State  Sun Belt   Scott Satterfield  712500.0   712500.0    \n",
      "..                 ...       ...                 ...       ...        ...    \n",
      "120  West Virginia      Big 12     Dana Holgorsen     3605000.0  3617500.0   \n",
      "121  Western Kentucky   C-USA      Mike Sanford Jr.   800000.0   805850.0    \n",
      "122  Western Michigan   MAC        Tim Lester         800000.0   800000.0    \n",
      "123  Wisconsin          Big Ten    Paul Chryst        3750000.0  3750000.0   \n",
      "124  Wyoming            Mt. West   Craig Bohl         1412000.0  1412000.0   \n",
      "\n",
      "       Bonus               Stadium  StadiumCapacity  StadiumAge  \\\n",
      "0    0.0      Falcon Stadium        52237            57           \n",
      "1    1500.0   InfoCision Stadium    30000            10           \n",
      "2    0.0      Bryant Denny Stadium  101821           90           \n",
      "3    0.0      Legion Field          71594            92           \n",
      "4    0.0      Kidd Brewer Stadium   24150            57           \n",
      "..   ...                      ...     ...            ..           \n",
      "120  12500.0  Mountaineer Field     60000            39           \n",
      "121  5850.0   LT Smith Stadium      22113            51           \n",
      "122  0.0      Waldo Stadium         30200            80           \n",
      "123  0.0      Camp Randall Stadium  80321            102          \n",
      "124  0.0      War Memorial Stadium  29181            69           \n",
      "\n",
      "     2012GradSuccessRate  YearsCoached  Games  Wins  Losses  Ties  \\\n",
      "0    80                   13            167    98    69      0      \n",
      "1    75                   13            152    82    69      1      \n",
      "2    85                   24            314    248   65      1      \n",
      "3    71                   4             53     34    19      0      \n",
      "4    75                   6             76     55    21      0      \n",
      "..   ..                  ..             ..     ..    ..     ..      \n",
      "120  66                   9             114    65    49      0      \n",
      "121  71                   2             25     9     16      0      \n",
      "122  80                   3             38     20    18      0      \n",
      "123  90                   8             106    71    35      0      \n",
      "124  85                   6             76     36    40      0      \n",
      "\n",
      "     WinPercentage  BowlGames  BowlWins  BowlLosses  BowlTies  \\\n",
      "0    0.587          10         5         5           0          \n",
      "1    0.543          5          3         2           0          \n",
      "2    0.791          25         15        10          0          \n",
      "3    0.642          3          1         2           0          \n",
      "4    0.724          4          4         0           0          \n",
      "..     ...         ..         ..        ..          ..          \n",
      "120  0.570          7          2         5           0          \n",
      "121  0.360          1          0         1           0          \n",
      "122  0.526          2          0         2           0          \n",
      "123  0.670          7          5         2           0          \n",
      "124  0.474          3          2         1           0          \n",
      "\n",
      "     BowlWinPercentage  WinsPerYear  \n",
      "0    0.500000           7.538462     \n",
      "1    0.600000           6.307692     \n",
      "2    0.600000           10.333333    \n",
      "3    0.333333           8.500000     \n",
      "4    1.000000           9.166667     \n",
      "..        ...                ...     \n",
      "120  0.285714           7.222222     \n",
      "121  0.000000           4.500000     \n",
      "122  0.000000           6.666667     \n",
      "123  0.714286           8.875000     \n",
      "124  0.666667           6.000000     \n",
      "\n",
      "[125 rows x 22 columns]\n"
     ]
    }
   ],
   "source": [
    "#Merge coaches and gradRates\n",
    "coachesAgg=coachesAgg.merge(coachStats, left_on='Coach',right_on='Coach')\n",
    "print(coachesAgg)"
   ]
  },
  {
   "cell_type": "code",
   "execution_count": 672,
   "metadata": {},
   "outputs": [
    {
     "data": {
      "text/plain": [
       "School                 0 \n",
       "Conference             0 \n",
       "Coach                  0 \n",
       "Salary                 0 \n",
       "TotalPay               0 \n",
       "Bonus                  0 \n",
       "Stadium                0 \n",
       "StadiumCapacity        0 \n",
       "StadiumAge             0 \n",
       "2012GradSuccessRate    0 \n",
       "YearsCoached           0 \n",
       "Games                  0 \n",
       "Wins                   0 \n",
       "Losses                 0 \n",
       "Ties                   0 \n",
       "WinPercentage          0 \n",
       "BowlGames              0 \n",
       "BowlWins               0 \n",
       "BowlLosses             0 \n",
       "BowlTies               0 \n",
       "BowlWinPercentage      15\n",
       "WinsPerYear            0 \n",
       "dtype: int64"
      ]
     },
     "execution_count": 672,
     "metadata": {},
     "output_type": "execute_result"
    }
   ],
   "source": [
    "#Check for missing values\n",
    "coachesAgg.isnull().sum()"
   ]
  },
  {
   "cell_type": "code",
   "execution_count": 673,
   "metadata": {},
   "outputs": [
    {
     "data": {
      "text/html": [
       "<div>\n",
       "<style scoped>\n",
       "    .dataframe tbody tr th:only-of-type {\n",
       "        vertical-align: middle;\n",
       "    }\n",
       "\n",
       "    .dataframe tbody tr th {\n",
       "        vertical-align: top;\n",
       "    }\n",
       "\n",
       "    .dataframe thead th {\n",
       "        text-align: right;\n",
       "    }\n",
       "</style>\n",
       "<table border=\"1\" class=\"dataframe\">\n",
       "  <thead>\n",
       "    <tr style=\"text-align: right;\">\n",
       "      <th></th>\n",
       "      <th>School</th>\n",
       "      <th>Conference</th>\n",
       "      <th>Coach</th>\n",
       "      <th>Salary</th>\n",
       "      <th>TotalPay</th>\n",
       "      <th>Bonus</th>\n",
       "      <th>Stadium</th>\n",
       "      <th>StadiumCapacity</th>\n",
       "      <th>StadiumAge</th>\n",
       "      <th>2012GradSuccessRate</th>\n",
       "      <th>YearsCoached</th>\n",
       "      <th>Games</th>\n",
       "      <th>Wins</th>\n",
       "      <th>Losses</th>\n",
       "      <th>Ties</th>\n",
       "      <th>WinPercentage</th>\n",
       "      <th>BowlGames</th>\n",
       "      <th>BowlWins</th>\n",
       "      <th>BowlLosses</th>\n",
       "      <th>BowlTies</th>\n",
       "      <th>BowlWinPercentage</th>\n",
       "      <th>WinsPerYear</th>\n",
       "    </tr>\n",
       "  </thead>\n",
       "  <tbody>\n",
       "    <tr>\n",
       "      <td>11</td>\n",
       "      <td>Ball State</td>\n",
       "      <td>MAC</td>\n",
       "      <td>Mike Neu</td>\n",
       "      <td>435689.0</td>\n",
       "      <td>435689.0</td>\n",
       "      <td>0.0</td>\n",
       "      <td>Scheumann Stadium</td>\n",
       "      <td>22500</td>\n",
       "      <td>52</td>\n",
       "      <td>73</td>\n",
       "      <td>4</td>\n",
       "      <td>48</td>\n",
       "      <td>15</td>\n",
       "      <td>33</td>\n",
       "      <td>0</td>\n",
       "      <td>0.313</td>\n",
       "      <td>0</td>\n",
       "      <td>0</td>\n",
       "      <td>0</td>\n",
       "      <td>0</td>\n",
       "      <td>NaN</td>\n",
       "      <td>3.750000</td>\n",
       "    </tr>\n",
       "    <tr>\n",
       "      <td>14</td>\n",
       "      <td>Bowling Green</td>\n",
       "      <td>MAC</td>\n",
       "      <td>Mike Jinks</td>\n",
       "      <td>437228.0</td>\n",
       "      <td>437228.0</td>\n",
       "      <td>0.0</td>\n",
       "      <td>Doyt Perry Stadium</td>\n",
       "      <td>23724</td>\n",
       "      <td>53</td>\n",
       "      <td>80</td>\n",
       "      <td>3</td>\n",
       "      <td>31</td>\n",
       "      <td>7</td>\n",
       "      <td>24</td>\n",
       "      <td>0</td>\n",
       "      <td>0.226</td>\n",
       "      <td>0</td>\n",
       "      <td>0</td>\n",
       "      <td>0</td>\n",
       "      <td>0</td>\n",
       "      <td>NaN</td>\n",
       "      <td>2.333333</td>\n",
       "    </tr>\n",
       "    <tr>\n",
       "      <td>19</td>\n",
       "      <td>Charlotte</td>\n",
       "      <td>C-USA</td>\n",
       "      <td>Brad Lambert</td>\n",
       "      <td>625000.0</td>\n",
       "      <td>625000.0</td>\n",
       "      <td>0.0</td>\n",
       "      <td>Jerry Richardson Stadium</td>\n",
       "      <td>15314</td>\n",
       "      <td>6</td>\n",
       "      <td>80</td>\n",
       "      <td>4</td>\n",
       "      <td>48</td>\n",
       "      <td>12</td>\n",
       "      <td>36</td>\n",
       "      <td>0</td>\n",
       "      <td>0.250</td>\n",
       "      <td>0</td>\n",
       "      <td>0</td>\n",
       "      <td>0</td>\n",
       "      <td>0</td>\n",
       "      <td>NaN</td>\n",
       "      <td>3.000000</td>\n",
       "    </tr>\n",
       "    <tr>\n",
       "      <td>22</td>\n",
       "      <td>Coastal Carolina</td>\n",
       "      <td>Sun Belt</td>\n",
       "      <td>Joe Moglia</td>\n",
       "      <td>400000.0</td>\n",
       "      <td>400000.0</td>\n",
       "      <td>0.0</td>\n",
       "      <td>Brooks Stadium</td>\n",
       "      <td>15000</td>\n",
       "      <td>16</td>\n",
       "      <td>79</td>\n",
       "      <td>1</td>\n",
       "      <td>12</td>\n",
       "      <td>5</td>\n",
       "      <td>7</td>\n",
       "      <td>0</td>\n",
       "      <td>0.417</td>\n",
       "      <td>0</td>\n",
       "      <td>0</td>\n",
       "      <td>0</td>\n",
       "      <td>0</td>\n",
       "      <td>NaN</td>\n",
       "      <td>5.000000</td>\n",
       "    </tr>\n",
       "    <tr>\n",
       "      <td>27</td>\n",
       "      <td>East Carolina</td>\n",
       "      <td>AAC</td>\n",
       "      <td>Scottie Montgomery</td>\n",
       "      <td>1102500.0</td>\n",
       "      <td>1102500.0</td>\n",
       "      <td>0.0</td>\n",
       "      <td>Dowdy Ficklen Stadium</td>\n",
       "      <td>50000</td>\n",
       "      <td>56</td>\n",
       "      <td>76</td>\n",
       "      <td>3</td>\n",
       "      <td>35</td>\n",
       "      <td>9</td>\n",
       "      <td>26</td>\n",
       "      <td>0</td>\n",
       "      <td>0.257</td>\n",
       "      <td>0</td>\n",
       "      <td>0</td>\n",
       "      <td>0</td>\n",
       "      <td>0</td>\n",
       "      <td>NaN</td>\n",
       "      <td>3.000000</td>\n",
       "    </tr>\n",
       "    <tr>\n",
       "      <td>44</td>\n",
       "      <td>Kansas</td>\n",
       "      <td>Big 12</td>\n",
       "      <td>David Beaty</td>\n",
       "      <td>1701109.0</td>\n",
       "      <td>1701109.0</td>\n",
       "      <td>0.0</td>\n",
       "      <td>Memorial Stadium</td>\n",
       "      <td>50071</td>\n",
       "      <td>98</td>\n",
       "      <td>79</td>\n",
       "      <td>4</td>\n",
       "      <td>48</td>\n",
       "      <td>6</td>\n",
       "      <td>42</td>\n",
       "      <td>0</td>\n",
       "      <td>0.125</td>\n",
       "      <td>0</td>\n",
       "      <td>0</td>\n",
       "      <td>0</td>\n",
       "      <td>0</td>\n",
       "      <td>NaN</td>\n",
       "      <td>1.500000</td>\n",
       "    </tr>\n",
       "    <tr>\n",
       "      <td>51</td>\n",
       "      <td>Louisiana-Monroe</td>\n",
       "      <td>Sun Belt</td>\n",
       "      <td>Matt Viator</td>\n",
       "      <td>390000.0</td>\n",
       "      <td>390000.0</td>\n",
       "      <td>0.0</td>\n",
       "      <td>Malone Stadium</td>\n",
       "      <td>30427</td>\n",
       "      <td>41</td>\n",
       "      <td>76</td>\n",
       "      <td>4</td>\n",
       "      <td>48</td>\n",
       "      <td>19</td>\n",
       "      <td>29</td>\n",
       "      <td>0</td>\n",
       "      <td>0.396</td>\n",
       "      <td>0</td>\n",
       "      <td>0</td>\n",
       "      <td>0</td>\n",
       "      <td>0</td>\n",
       "      <td>NaN</td>\n",
       "      <td>4.750000</td>\n",
       "    </tr>\n",
       "    <tr>\n",
       "      <td>56</td>\n",
       "      <td>UMass</td>\n",
       "      <td>Ind.</td>\n",
       "      <td>Mark Whipple</td>\n",
       "      <td>500000.0</td>\n",
       "      <td>500000.0</td>\n",
       "      <td>0.0</td>\n",
       "      <td>McGuirk Stadium</td>\n",
       "      <td>17000</td>\n",
       "      <td>54</td>\n",
       "      <td>68</td>\n",
       "      <td>5</td>\n",
       "      <td>60</td>\n",
       "      <td>16</td>\n",
       "      <td>44</td>\n",
       "      <td>0</td>\n",
       "      <td>0.267</td>\n",
       "      <td>0</td>\n",
       "      <td>0</td>\n",
       "      <td>0</td>\n",
       "      <td>0</td>\n",
       "      <td>NaN</td>\n",
       "      <td>3.200000</td>\n",
       "    </tr>\n",
       "    <tr>\n",
       "      <td>64</td>\n",
       "      <td>Ole Miss</td>\n",
       "      <td>SEC</td>\n",
       "      <td>Matt Luke</td>\n",
       "      <td>3000000.0</td>\n",
       "      <td>3000000.0</td>\n",
       "      <td>0.0</td>\n",
       "      <td>Vaught Hemingway Stadium</td>\n",
       "      <td>58580</td>\n",
       "      <td>104</td>\n",
       "      <td>69</td>\n",
       "      <td>3</td>\n",
       "      <td>36</td>\n",
       "      <td>15</td>\n",
       "      <td>21</td>\n",
       "      <td>0</td>\n",
       "      <td>0.417</td>\n",
       "      <td>0</td>\n",
       "      <td>0</td>\n",
       "      <td>0</td>\n",
       "      <td>0</td>\n",
       "      <td>NaN</td>\n",
       "      <td>5.000000</td>\n",
       "    </tr>\n",
       "    <tr>\n",
       "      <td>70</td>\n",
       "      <td>UNLV</td>\n",
       "      <td>Mt. West</td>\n",
       "      <td>Tony Sanchez</td>\n",
       "      <td>600000.0</td>\n",
       "      <td>600000.0</td>\n",
       "      <td>0.0</td>\n",
       "      <td>Sam Boyd Stadium</td>\n",
       "      <td>36800</td>\n",
       "      <td>48</td>\n",
       "      <td>63</td>\n",
       "      <td>5</td>\n",
       "      <td>60</td>\n",
       "      <td>20</td>\n",
       "      <td>40</td>\n",
       "      <td>0</td>\n",
       "      <td>0.333</td>\n",
       "      <td>0</td>\n",
       "      <td>0</td>\n",
       "      <td>0</td>\n",
       "      <td>0</td>\n",
       "      <td>NaN</td>\n",
       "      <td>4.000000</td>\n",
       "    </tr>\n",
       "    <tr>\n",
       "      <td>85</td>\n",
       "      <td>Oregon State</td>\n",
       "      <td>Pac-12</td>\n",
       "      <td>Jonathan Smith</td>\n",
       "      <td>1900008.0</td>\n",
       "      <td>1900008.0</td>\n",
       "      <td>0.0</td>\n",
       "      <td>Reser Stadium</td>\n",
       "      <td>45674</td>\n",
       "      <td>66</td>\n",
       "      <td>70</td>\n",
       "      <td>2</td>\n",
       "      <td>24</td>\n",
       "      <td>7</td>\n",
       "      <td>17</td>\n",
       "      <td>0</td>\n",
       "      <td>0.292</td>\n",
       "      <td>0</td>\n",
       "      <td>0</td>\n",
       "      <td>0</td>\n",
       "      <td>0</td>\n",
       "      <td>NaN</td>\n",
       "      <td>3.500000</td>\n",
       "    </tr>\n",
       "    <tr>\n",
       "      <td>89</td>\n",
       "      <td>Rutgers</td>\n",
       "      <td>Big Ten</td>\n",
       "      <td>Chris Ash</td>\n",
       "      <td>2200000.0</td>\n",
       "      <td>2200000.0</td>\n",
       "      <td>0.0</td>\n",
       "      <td>High Point Solutions Stadium</td>\n",
       "      <td>52454</td>\n",
       "      <td>25</td>\n",
       "      <td>76</td>\n",
       "      <td>4</td>\n",
       "      <td>40</td>\n",
       "      <td>8</td>\n",
       "      <td>32</td>\n",
       "      <td>0</td>\n",
       "      <td>0.200</td>\n",
       "      <td>0</td>\n",
       "      <td>0</td>\n",
       "      <td>0</td>\n",
       "      <td>0</td>\n",
       "      <td>NaN</td>\n",
       "      <td>2.000000</td>\n",
       "    </tr>\n",
       "    <tr>\n",
       "      <td>91</td>\n",
       "      <td>San Jose State</td>\n",
       "      <td>Mt. West</td>\n",
       "      <td>Brent Brennan</td>\n",
       "      <td>590424.0</td>\n",
       "      <td>590424.0</td>\n",
       "      <td>0.0</td>\n",
       "      <td>CEFCU Stadium</td>\n",
       "      <td>30456</td>\n",
       "      <td>86</td>\n",
       "      <td>78</td>\n",
       "      <td>3</td>\n",
       "      <td>37</td>\n",
       "      <td>8</td>\n",
       "      <td>29</td>\n",
       "      <td>0</td>\n",
       "      <td>0.216</td>\n",
       "      <td>0</td>\n",
       "      <td>0</td>\n",
       "      <td>0</td>\n",
       "      <td>0</td>\n",
       "      <td>NaN</td>\n",
       "      <td>2.666667</td>\n",
       "    </tr>\n",
       "    <tr>\n",
       "      <td>92</td>\n",
       "      <td>South Alabama</td>\n",
       "      <td>Sun Belt</td>\n",
       "      <td>Steve Campbell</td>\n",
       "      <td>600000.0</td>\n",
       "      <td>600000.0</td>\n",
       "      <td>0.0</td>\n",
       "      <td>Ladd Peebles Stadium</td>\n",
       "      <td>40646</td>\n",
       "      <td>71</td>\n",
       "      <td>71</td>\n",
       "      <td>2</td>\n",
       "      <td>24</td>\n",
       "      <td>5</td>\n",
       "      <td>19</td>\n",
       "      <td>0</td>\n",
       "      <td>0.208</td>\n",
       "      <td>0</td>\n",
       "      <td>0</td>\n",
       "      <td>0</td>\n",
       "      <td>0</td>\n",
       "      <td>NaN</td>\n",
       "      <td>2.500000</td>\n",
       "    </tr>\n",
       "    <tr>\n",
       "      <td>105</td>\n",
       "      <td>UTEP</td>\n",
       "      <td>C-USA</td>\n",
       "      <td>Dana Dimel</td>\n",
       "      <td>700000.0</td>\n",
       "      <td>700000.0</td>\n",
       "      <td>0.0</td>\n",
       "      <td>Sun Bowl Stadium</td>\n",
       "      <td>51500</td>\n",
       "      <td>56</td>\n",
       "      <td>85</td>\n",
       "      <td>8</td>\n",
       "      <td>93</td>\n",
       "      <td>32</td>\n",
       "      <td>61</td>\n",
       "      <td>0</td>\n",
       "      <td>0.344</td>\n",
       "      <td>0</td>\n",
       "      <td>0</td>\n",
       "      <td>0</td>\n",
       "      <td>0</td>\n",
       "      <td>NaN</td>\n",
       "      <td>4.000000</td>\n",
       "    </tr>\n",
       "  </tbody>\n",
       "</table>\n",
       "</div>"
      ],
      "text/plain": [
       "               School Conference               Coach     Salary   TotalPay  \\\n",
       "11   Ball State        MAC        Mike Neu            435689.0   435689.0    \n",
       "14   Bowling Green     MAC        Mike Jinks          437228.0   437228.0    \n",
       "19   Charlotte         C-USA      Brad Lambert        625000.0   625000.0    \n",
       "22   Coastal Carolina  Sun Belt   Joe Moglia          400000.0   400000.0    \n",
       "27   East Carolina     AAC        Scottie Montgomery  1102500.0  1102500.0   \n",
       "44   Kansas            Big 12     David Beaty         1701109.0  1701109.0   \n",
       "51   Louisiana-Monroe  Sun Belt   Matt Viator         390000.0   390000.0    \n",
       "56   UMass             Ind.       Mark Whipple        500000.0   500000.0    \n",
       "64   Ole Miss          SEC        Matt Luke           3000000.0  3000000.0   \n",
       "70   UNLV              Mt. West   Tony Sanchez        600000.0   600000.0    \n",
       "85   Oregon State      Pac-12     Jonathan Smith      1900008.0  1900008.0   \n",
       "89   Rutgers           Big Ten    Chris Ash           2200000.0  2200000.0   \n",
       "91   San Jose State    Mt. West   Brent Brennan       590424.0   590424.0    \n",
       "92   South Alabama     Sun Belt   Steve Campbell      600000.0   600000.0    \n",
       "105  UTEP              C-USA      Dana Dimel          700000.0   700000.0    \n",
       "\n",
       "     Bonus                       Stadium  StadiumCapacity  StadiumAge  \\\n",
       "11   0.0    Scheumann Stadium             22500            52           \n",
       "14   0.0    Doyt Perry Stadium            23724            53           \n",
       "19   0.0    Jerry Richardson Stadium      15314            6            \n",
       "22   0.0    Brooks Stadium                15000            16           \n",
       "27   0.0    Dowdy Ficklen Stadium         50000            56           \n",
       "44   0.0    Memorial Stadium              50071            98           \n",
       "51   0.0    Malone Stadium                30427            41           \n",
       "56   0.0    McGuirk Stadium               17000            54           \n",
       "64   0.0    Vaught Hemingway Stadium      58580            104          \n",
       "70   0.0    Sam Boyd Stadium              36800            48           \n",
       "85   0.0    Reser Stadium                 45674            66           \n",
       "89   0.0    High Point Solutions Stadium  52454            25           \n",
       "91   0.0    CEFCU Stadium                 30456            86           \n",
       "92   0.0    Ladd Peebles Stadium          40646            71           \n",
       "105  0.0    Sun Bowl Stadium              51500            56           \n",
       "\n",
       "     2012GradSuccessRate  YearsCoached  Games  Wins  Losses  Ties  \\\n",
       "11   73                   4             48     15    33      0      \n",
       "14   80                   3             31     7     24      0      \n",
       "19   80                   4             48     12    36      0      \n",
       "22   79                   1             12     5     7       0      \n",
       "27   76                   3             35     9     26      0      \n",
       "44   79                   4             48     6     42      0      \n",
       "51   76                   4             48     19    29      0      \n",
       "56   68                   5             60     16    44      0      \n",
       "64   69                   3             36     15    21      0      \n",
       "70   63                   5             60     20    40      0      \n",
       "85   70                   2             24     7     17      0      \n",
       "89   76                   4             40     8     32      0      \n",
       "91   78                   3             37     8     29      0      \n",
       "92   71                   2             24     5     19      0      \n",
       "105  85                   8             93     32    61      0      \n",
       "\n",
       "     WinPercentage  BowlGames  BowlWins  BowlLosses  BowlTies  \\\n",
       "11   0.313          0          0         0           0          \n",
       "14   0.226          0          0         0           0          \n",
       "19   0.250          0          0         0           0          \n",
       "22   0.417          0          0         0           0          \n",
       "27   0.257          0          0         0           0          \n",
       "44   0.125          0          0         0           0          \n",
       "51   0.396          0          0         0           0          \n",
       "56   0.267          0          0         0           0          \n",
       "64   0.417          0          0         0           0          \n",
       "70   0.333          0          0         0           0          \n",
       "85   0.292          0          0         0           0          \n",
       "89   0.200          0          0         0           0          \n",
       "91   0.216          0          0         0           0          \n",
       "92   0.208          0          0         0           0          \n",
       "105  0.344          0          0         0           0          \n",
       "\n",
       "     BowlWinPercentage  WinsPerYear  \n",
       "11  NaN                 3.750000     \n",
       "14  NaN                 2.333333     \n",
       "19  NaN                 3.000000     \n",
       "22  NaN                 5.000000     \n",
       "27  NaN                 3.000000     \n",
       "44  NaN                 1.500000     \n",
       "51  NaN                 4.750000     \n",
       "56  NaN                 3.200000     \n",
       "64  NaN                 5.000000     \n",
       "70  NaN                 4.000000     \n",
       "85  NaN                 3.500000     \n",
       "89  NaN                 2.000000     \n",
       "91  NaN                 2.666667     \n",
       "92  NaN                 2.500000     \n",
       "105 NaN                 4.000000     "
      ]
     },
     "execution_count": 673,
     "metadata": {},
     "output_type": "execute_result"
    }
   ],
   "source": [
    "#Explore BowlWinPercentage missing values\n",
    "coachesAgg[pd.isnull(coachesAgg['BowlWinPercentage'])]"
   ]
  },
  {
   "cell_type": "code",
   "execution_count": 674,
   "metadata": {},
   "outputs": [],
   "source": [
    "#All missing BowlWinPercentages are from coaches with no bowl appearances. \n",
    "#Bowl coaching performance still captured by Bowl Wins and Losses, so drop BowlWinPercentage\n",
    "coachesAgg=coachesAgg.drop(columns=['BowlWinPercentage'])"
   ]
  },
  {
   "cell_type": "code",
   "execution_count": 675,
   "metadata": {},
   "outputs": [
    {
     "data": {
      "text/plain": [
       "School                 0\n",
       "Conference             0\n",
       "Coach                  0\n",
       "Salary                 0\n",
       "TotalPay               0\n",
       "Bonus                  0\n",
       "Stadium                0\n",
       "StadiumCapacity        0\n",
       "StadiumAge             0\n",
       "2012GradSuccessRate    0\n",
       "YearsCoached           0\n",
       "Games                  0\n",
       "Wins                   0\n",
       "Losses                 0\n",
       "Ties                   0\n",
       "WinPercentage          0\n",
       "BowlGames              0\n",
       "BowlWins               0\n",
       "BowlLosses             0\n",
       "BowlTies               0\n",
       "WinsPerYear            0\n",
       "dtype: int64"
      ]
     },
     "execution_count": 675,
     "metadata": {},
     "output_type": "execute_result"
    },
    {
     "name": "stdout",
     "output_type": "stream",
     "text": [
      "                School Conference              Coach     Salary   TotalPay  \\\n",
      "0    Air Force          Mt. West   Troy Calhoun       885000.0   885000.0    \n",
      "1    Akron              MAC        Terry Bowden       411000.0   412500.0    \n",
      "2    Alabama            SEC        Nick Saban         8307000.0  8307000.0   \n",
      "3    UAB                C-USA      Bill Clark         900000.0   900000.0    \n",
      "4    Appalachian State  Sun Belt   Scott Satterfield  712500.0   712500.0    \n",
      "..                 ...       ...                 ...       ...        ...    \n",
      "120  West Virginia      Big 12     Dana Holgorsen     3605000.0  3617500.0   \n",
      "121  Western Kentucky   C-USA      Mike Sanford Jr.   800000.0   805850.0    \n",
      "122  Western Michigan   MAC        Tim Lester         800000.0   800000.0    \n",
      "123  Wisconsin          Big Ten    Paul Chryst        3750000.0  3750000.0   \n",
      "124  Wyoming            Mt. West   Craig Bohl         1412000.0  1412000.0   \n",
      "\n",
      "       Bonus               Stadium  StadiumCapacity  StadiumAge  \\\n",
      "0    0.0      Falcon Stadium        52237            57           \n",
      "1    1500.0   InfoCision Stadium    30000            10           \n",
      "2    0.0      Bryant Denny Stadium  101821           90           \n",
      "3    0.0      Legion Field          71594            92           \n",
      "4    0.0      Kidd Brewer Stadium   24150            57           \n",
      "..   ...                      ...     ...            ..           \n",
      "120  12500.0  Mountaineer Field     60000            39           \n",
      "121  5850.0   LT Smith Stadium      22113            51           \n",
      "122  0.0      Waldo Stadium         30200            80           \n",
      "123  0.0      Camp Randall Stadium  80321            102          \n",
      "124  0.0      War Memorial Stadium  29181            69           \n",
      "\n",
      "     2012GradSuccessRate  YearsCoached  Games  Wins  Losses  Ties  \\\n",
      "0    80                   13            167    98    69      0      \n",
      "1    75                   13            152    82    69      1      \n",
      "2    85                   24            314    248   65      1      \n",
      "3    71                   4             53     34    19      0      \n",
      "4    75                   6             76     55    21      0      \n",
      "..   ..                  ..             ..     ..    ..     ..      \n",
      "120  66                   9             114    65    49      0      \n",
      "121  71                   2             25     9     16      0      \n",
      "122  80                   3             38     20    18      0      \n",
      "123  90                   8             106    71    35      0      \n",
      "124  85                   6             76     36    40      0      \n",
      "\n",
      "     WinPercentage  BowlGames  BowlWins  BowlLosses  BowlTies  WinsPerYear  \n",
      "0    0.587          10         5         5           0         7.538462     \n",
      "1    0.543          5          3         2           0         6.307692     \n",
      "2    0.791          25         15        10          0         10.333333    \n",
      "3    0.642          3          1         2           0         8.500000     \n",
      "4    0.724          4          4         0           0         9.166667     \n",
      "..     ...         ..         ..        ..          ..              ...     \n",
      "120  0.570          7          2         5           0         7.222222     \n",
      "121  0.360          1          0         1           0         4.500000     \n",
      "122  0.526          2          0         2           0         6.666667     \n",
      "123  0.670          7          5         2           0         8.875000     \n",
      "124  0.474          3          2         1           0         6.000000     \n",
      "\n",
      "[125 rows x 21 columns]\n"
     ]
    }
   ],
   "source": [
    "#Recheck for missing data\n",
    "coachesAgg.isnull().sum()\n",
    "print(coachesAgg)"
   ]
  },
  {
   "cell_type": "code",
   "execution_count": 676,
   "metadata": {},
   "outputs": [
    {
     "name": "stdout",
     "output_type": "stream",
     "text": [
      "               School  2019Games_x  TouchdownsAllowed  OPP XP  2PTAllowed  \\\n",
      "0    Georgia           14           20                 20      0            \n",
      "1    San Diego State   13           19                 17      2            \n",
      "2    Clemson           15           24                 23      0            \n",
      "3    Ohio State        14           23                 19      3            \n",
      "4    Iowa              13           21                 20      0            \n",
      "..    ...              ..           ..                 ..     ..            \n",
      "125  Bowling Green     12           62                 61      0            \n",
      "126  Louisiana-Monroe  12           61                 57      1            \n",
      "127  UConn             12           67                 66      0            \n",
      "128  New Mexico State  12           61                 55      1            \n",
      "129  UMass             12           86                 84      1            \n",
      "\n",
      "     OPP DXP  OPP FGM  SafetiesAllowed  TotalPointsAllowed  \\\n",
      "0    0        12       0                176                  \n",
      "1    0        10       0                165                  \n",
      "2    0        12       0                203                  \n",
      "3    0        9        1                192                  \n",
      "4    0        12       0                182                  \n",
      "..  ..        ..      ..                ...                  \n",
      "125  0        10       0                463                  \n",
      "126  0        13       0                464                  \n",
      "127  0        6        0                486                  \n",
      "128  0        23       0                492                  \n",
      "129  0        10       0                632                  \n",
      "\n",
      "     PointsPerGameAllowed  2019Games_y  Touchdowns  ExtraPoints  2PT  DEF PTS  \\\n",
      "0    12.6                  14           50          46           2    0         \n",
      "1    12.7                  13           30          28           1    0         \n",
      "2    13.5                  15           88          85           2    0         \n",
      "3    13.7                  14           88          87           0    0         \n",
      "4    14.0                  13           36          32           0    0         \n",
      "..    ...                  ..           ..          ..          ..   ..         \n",
      "125  38.6                  12           25          22           0    0         \n",
      "126  38.7                  12           51          44           1    0         \n",
      "127  40.5                  12           28          27           1    0         \n",
      "128  41.0                  12           33          32           0    0         \n",
      "129  52.7                  12           31          30           0    0         \n",
      "\n",
      "     FieldGoals  Safeties  TotalPoints  PointsPerGame  \n",
      "0    27          0         431          30.8           \n",
      "1    22          0         276          21.2           \n",
      "2    14          0         659          43.9           \n",
      "3    13          1         656          46.9           \n",
      "4    29          0         335          25.8           \n",
      "..   ..         ..         ...           ...           \n",
      "125  6           1         192          16.0           \n",
      "126  9           0         379          31.6           \n",
      "127  10          0         227          18.9           \n",
      "128  10          0         260          21.7           \n",
      "129  7           0         237          19.8           \n",
      "\n",
      "[130 rows x 19 columns]\n"
     ]
    }
   ],
   "source": [
    "#Merge DStats and OStats\n",
    "teamStats=DStats.merge(OStats, left_on='School',right_on='School')\n",
    "print(teamStats)"
   ]
  },
  {
   "cell_type": "code",
   "execution_count": 677,
   "metadata": {},
   "outputs": [
    {
     "name": "stdout",
     "output_type": "stream",
     "text": [
      "               School  TouchdownsAllowed  OPP XP  2PTAllowed  OPP DXP  \\\n",
      "0    Georgia           20                 20      0           0         \n",
      "1    San Diego State   19                 17      2           0         \n",
      "2    Clemson           24                 23      0           0         \n",
      "3    Ohio State        23                 19      3           0         \n",
      "4    Iowa              21                 20      0           0         \n",
      "..    ...              ..                 ..     ..          ..         \n",
      "125  Bowling Green     62                 61      0           0         \n",
      "126  Louisiana-Monroe  61                 57      1           0         \n",
      "127  UConn             67                 66      0           0         \n",
      "128  New Mexico State  61                 55      1           0         \n",
      "129  UMass             86                 84      1           0         \n",
      "\n",
      "     OPP FGM  SafetiesAllowed  TotalPointsAllowed  PointsPerGameAllowed  \\\n",
      "0    12       0                176                 12.6                   \n",
      "1    10       0                165                 12.7                   \n",
      "2    12       0                203                 13.5                   \n",
      "3    9        1                192                 13.7                   \n",
      "4    12       0                182                 14.0                   \n",
      "..   ..      ..                ...                  ...                   \n",
      "125  10       0                463                 38.6                   \n",
      "126  13       0                464                 38.7                   \n",
      "127  6        0                486                 40.5                   \n",
      "128  23       0                492                 41.0                   \n",
      "129  10       0                632                 52.7                   \n",
      "\n",
      "     2019Games  Touchdowns  ExtraPoints  2PT  DEF PTS  FieldGoals  Safeties  \\\n",
      "0    14         50          46           2    0        27          0          \n",
      "1    13         30          28           1    0        22          0          \n",
      "2    15         88          85           2    0        14          0          \n",
      "3    14         88          87           0    0        13          1          \n",
      "4    13         36          32           0    0        29          0          \n",
      "..   ..         ..          ..          ..   ..        ..         ..          \n",
      "125  12         25          22           0    0        6           1          \n",
      "126  12         51          44           1    0        9           0          \n",
      "127  12         28          27           1    0        10          0          \n",
      "128  12         33          32           0    0        10          0          \n",
      "129  12         31          30           0    0        7           0          \n",
      "\n",
      "     TotalPoints  PointsPerGame  \n",
      "0    431          30.8           \n",
      "1    276          21.2           \n",
      "2    659          43.9           \n",
      "3    656          46.9           \n",
      "4    335          25.8           \n",
      "..   ...           ...           \n",
      "125  192          16.0           \n",
      "126  379          31.6           \n",
      "127  227          18.9           \n",
      "128  260          21.7           \n",
      "129  237          19.8           \n",
      "\n",
      "[130 rows x 18 columns]\n"
     ]
    }
   ],
   "source": [
    "#Rename 2019Games_y, drop 2019Games_x\n",
    "teamStats=teamStats.rename(columns={'2019Games_y':'2019Games'})\n",
    "teamStats=teamStats.drop(columns=['2019Games_x'])\n",
    "print(teamStats)"
   ]
  },
  {
   "cell_type": "code",
   "execution_count": 678,
   "metadata": {},
   "outputs": [
    {
     "name": "stdout",
     "output_type": "stream",
     "text": [
      "                School Conference              Coach     Salary   TotalPay  \\\n",
      "0    Air Force          Mt. West   Troy Calhoun       885000.0   885000.0    \n",
      "1    Akron              MAC        Terry Bowden       411000.0   412500.0    \n",
      "2    Alabama            SEC        Nick Saban         8307000.0  8307000.0   \n",
      "3    UAB                C-USA      Bill Clark         900000.0   900000.0    \n",
      "4    Appalachian State  Sun Belt   Scott Satterfield  712500.0   712500.0    \n",
      "..                 ...       ...                 ...       ...        ...    \n",
      "118  West Virginia      Big 12     Dana Holgorsen     3605000.0  3617500.0   \n",
      "119  Western Kentucky   C-USA      Mike Sanford Jr.   800000.0   805850.0    \n",
      "120  Western Michigan   MAC        Tim Lester         800000.0   800000.0    \n",
      "121  Wisconsin          Big Ten    Paul Chryst        3750000.0  3750000.0   \n",
      "122  Wyoming            Mt. West   Craig Bohl         1412000.0  1412000.0   \n",
      "\n",
      "       Bonus               Stadium  StadiumCapacity  StadiumAge  \\\n",
      "0    0.0      Falcon Stadium        52237            57           \n",
      "1    1500.0   InfoCision Stadium    30000            10           \n",
      "2    0.0      Bryant Denny Stadium  101821           90           \n",
      "3    0.0      Legion Field          71594            92           \n",
      "4    0.0      Kidd Brewer Stadium   24150            57           \n",
      "..   ...                      ...     ...            ..           \n",
      "118  12500.0  Mountaineer Field     60000            39           \n",
      "119  5850.0   LT Smith Stadium      22113            51           \n",
      "120  0.0      Waldo Stadium         30200            80           \n",
      "121  0.0      Camp Randall Stadium  80321            102          \n",
      "122  0.0      War Memorial Stadium  29181            69           \n",
      "\n",
      "     2012GradSuccessRate  YearsCoached  Games  Wins  Losses  Ties  \\\n",
      "0    80                   13            167    98    69      0      \n",
      "1    75                   13            152    82    69      1      \n",
      "2    85                   24            314    248   65      1      \n",
      "3    71                   4             53     34    19      0      \n",
      "4    75                   6             76     55    21      0      \n",
      "..   ..                  ..             ..     ..    ..     ..      \n",
      "118  66                   9             114    65    49      0      \n",
      "119  71                   2             25     9     16      0      \n",
      "120  80                   3             38     20    18      0      \n",
      "121  90                   8             106    71    35      0      \n",
      "122  85                   6             76     36    40      0      \n",
      "\n",
      "     WinPercentage  BowlGames  BowlWins  BowlLosses  BowlTies  WinsPerYear  \\\n",
      "0    0.587          10         5         5           0         7.538462      \n",
      "1    0.543          5          3         2           0         6.307692      \n",
      "2    0.791          25         15        10          0         10.333333     \n",
      "3    0.642          3          1         2           0         8.500000      \n",
      "4    0.724          4          4         0           0         9.166667      \n",
      "..     ...         ..         ..        ..          ..              ...      \n",
      "118  0.570          7          2         5           0         7.222222      \n",
      "119  0.360          1          0         1           0         4.500000      \n",
      "120  0.526          2          0         2           0         6.666667      \n",
      "121  0.670          7          5         2           0         8.875000      \n",
      "122  0.474          3          2         1           0         6.000000      \n",
      "\n",
      "     TouchdownsAllowed  OPP XP  2PTAllowed  OPP DXP  OPP FGM  SafetiesAllowed  \\\n",
      "0    34                 27      0           0        9        0                 \n",
      "1    56                 55      1           0        14       0                 \n",
      "2    26                 22      2           0        20       0                 \n",
      "3    38                 33      1           0        13       0                 \n",
      "4    35                 29      1           0        13       0                 \n",
      "..   ..                 ..     ..          ..        ..      ..                 \n",
      "118  43                 43      0           0        15       0                 \n",
      "119  32                 28      1           0        13       0                 \n",
      "120  40                 35      1           0        20       0                 \n",
      "121  30                 25      1           0        10       0                 \n",
      "122  25                 24      0           0        19       0                 \n",
      "\n",
      "     TotalPointsAllowed  PointsPerGameAllowed  2019Games  Touchdowns  \\\n",
      "0    258                 19.8                  13         58           \n",
      "1    435                 36.3                  12         15           \n",
      "2    242                 18.6                  13         83           \n",
      "3    302                 21.6                  14         38           \n",
      "4    280                 20.0                  14         73           \n",
      "..   ...                  ...                  ..         ..           \n",
      "118  346                 28.8                  12         30           \n",
      "119  261                 20.1                  13         40           \n",
      "120  337                 25.9                  13         58           \n",
      "121  237                 16.9                  14         62           \n",
      "122  231                 17.8                  13         41           \n",
      "\n",
      "     ExtraPoints  2PT  DEF PTS  FieldGoals  Safeties  TotalPoints  \\\n",
      "0    52           1    1        13          0         443           \n",
      "1    13           1    0        7           0         126           \n",
      "2    80           0    0        12          0         614           \n",
      "3    37           0    0        19          1         324           \n",
      "4    72           0    0        11          0         543           \n",
      "..   ..          ..   ..        ..         ..         ...           \n",
      "118  28           0    0        13          0         247           \n",
      "119  39           0    0        17          0         330           \n",
      "120  52           0    0        10          0         430           \n",
      "121  61           0    0        14          1         477           \n",
      "122  37           1    0        15          0         330           \n",
      "\n",
      "     PointsPerGame  \n",
      "0    34.1           \n",
      "1    10.5           \n",
      "2    47.2           \n",
      "3    23.1           \n",
      "4    38.8           \n",
      "..    ...           \n",
      "118  20.6           \n",
      "119  25.4           \n",
      "120  33.1           \n",
      "121  34.1           \n",
      "122  25.4           \n",
      "\n",
      "[123 rows x 38 columns]\n"
     ]
    }
   ],
   "source": [
    "#Merge coaches and teamStats\n",
    "coachesAgg=coachesAgg.merge(teamStats, left_on='School',right_on='School')\n",
    "print(coachesAgg)"
   ]
  },
  {
   "cell_type": "code",
   "execution_count": 679,
   "metadata": {},
   "outputs": [
    {
     "name": "stdout",
     "output_type": "stream",
     "text": [
      "                School Conference              Coach     Salary   TotalPay  \\\n",
      "0    Air Force          Mt. West   Troy Calhoun       885000.0   885000.0    \n",
      "1    Akron              MAC        Terry Bowden       411000.0   412500.0    \n",
      "2    Alabama            SEC        Nick Saban         8307000.0  8307000.0   \n",
      "3    UAB                C-USA      Bill Clark         900000.0   900000.0    \n",
      "4    Appalachian State  Sun Belt   Scott Satterfield  712500.0   712500.0    \n",
      "..                 ...       ...                 ...       ...        ...    \n",
      "118  West Virginia      Big 12     Dana Holgorsen     3605000.0  3617500.0   \n",
      "119  Western Kentucky   C-USA      Mike Sanford Jr.   800000.0   805850.0    \n",
      "120  Western Michigan   MAC        Tim Lester         800000.0   800000.0    \n",
      "121  Wisconsin          Big Ten    Paul Chryst        3750000.0  3750000.0   \n",
      "122  Wyoming            Mt. West   Craig Bohl         1412000.0  1412000.0   \n",
      "\n",
      "       Bonus               Stadium  StadiumCapacity  StadiumAge  \\\n",
      "0    0.0      Falcon Stadium        52237            57           \n",
      "1    1500.0   InfoCision Stadium    30000            10           \n",
      "2    0.0      Bryant Denny Stadium  101821           90           \n",
      "3    0.0      Legion Field          71594            92           \n",
      "4    0.0      Kidd Brewer Stadium   24150            57           \n",
      "..   ...                      ...     ...            ..           \n",
      "118  12500.0  Mountaineer Field     60000            39           \n",
      "119  5850.0   LT Smith Stadium      22113            51           \n",
      "120  0.0      Waldo Stadium         30200            80           \n",
      "121  0.0      Camp Randall Stadium  80321            102          \n",
      "122  0.0      War Memorial Stadium  29181            69           \n",
      "\n",
      "     2012GradSuccessRate  YearsCoached  Games  Wins  Losses  Ties  \\\n",
      "0    80                   13            167    98    69      0      \n",
      "1    75                   13            152    82    69      1      \n",
      "2    85                   24            314    248   65      1      \n",
      "3    71                   4             53     34    19      0      \n",
      "4    75                   6             76     55    21      0      \n",
      "..   ..                  ..             ..     ..    ..     ..      \n",
      "118  66                   9             114    65    49      0      \n",
      "119  71                   2             25     9     16      0      \n",
      "120  80                   3             38     20    18      0      \n",
      "121  90                   8             106    71    35      0      \n",
      "122  85                   6             76     36    40      0      \n",
      "\n",
      "     WinPercentage  BowlGames  BowlWins  BowlLosses  BowlTies  WinsPerYear  \\\n",
      "0    0.587          10         5         5           0         7.538462      \n",
      "1    0.543          5          3         2           0         6.307692      \n",
      "2    0.791          25         15        10          0         10.333333     \n",
      "3    0.642          3          1         2           0         8.500000      \n",
      "4    0.724          4          4         0           0         9.166667      \n",
      "..     ...         ..         ..        ..          ..              ...      \n",
      "118  0.570          7          2         5           0         7.222222      \n",
      "119  0.360          1          0         1           0         4.500000      \n",
      "120  0.526          2          0         2           0         6.666667      \n",
      "121  0.670          7          5         2           0         8.875000      \n",
      "122  0.474          3          2         1           0         6.000000      \n",
      "\n",
      "     TouchdownsAllowed  OPP XP  2PTAllowed  OPP DXP  OPP FGM  SafetiesAllowed  \\\n",
      "0    34                 27      0           0        9        0                 \n",
      "1    56                 55      1           0        14       0                 \n",
      "2    26                 22      2           0        20       0                 \n",
      "3    38                 33      1           0        13       0                 \n",
      "4    35                 29      1           0        13       0                 \n",
      "..   ..                 ..     ..          ..        ..      ..                 \n",
      "118  43                 43      0           0        15       0                 \n",
      "119  32                 28      1           0        13       0                 \n",
      "120  40                 35      1           0        20       0                 \n",
      "121  30                 25      1           0        10       0                 \n",
      "122  25                 24      0           0        19       0                 \n",
      "\n",
      "     TotalPointsAllowed  PointsPerGameAllowed  2019Games  Touchdowns  \\\n",
      "0    258                 19.8                  13         58           \n",
      "1    435                 36.3                  12         15           \n",
      "2    242                 18.6                  13         83           \n",
      "3    302                 21.6                  14         38           \n",
      "4    280                 20.0                  14         73           \n",
      "..   ...                  ...                  ..         ..           \n",
      "118  346                 28.8                  12         30           \n",
      "119  261                 20.1                  13         40           \n",
      "120  337                 25.9                  13         58           \n",
      "121  237                 16.9                  14         62           \n",
      "122  231                 17.8                  13         41           \n",
      "\n",
      "     ExtraPoints  2PT  DEF PTS  FieldGoals  Safeties  TotalPoints  \\\n",
      "0    52           1    1        13          0         443           \n",
      "1    13           1    0        7           0         126           \n",
      "2    80           0    0        12          0         614           \n",
      "3    37           0    0        19          1         324           \n",
      "4    72           0    0        11          0         543           \n",
      "..   ..          ..   ..        ..         ..         ...           \n",
      "118  28           0    0        13          0         247           \n",
      "119  39           0    0        17          0         330           \n",
      "120  52           0    0        10          0         430           \n",
      "121  61           0    0        14          1         477           \n",
      "122  37           1    0        15          0         330           \n",
      "\n",
      "     PointsPerGame  AAC  ACC  Big12  BigTen  CUSA  Ind  MAC  MtnWest  Pac12  \\\n",
      "0    34.1           0    0    0      0       0     0    0    1        0       \n",
      "1    10.5           0    0    0      0       0     0    1    0        0       \n",
      "2    47.2           0    0    0      0       0     0    0    0        0       \n",
      "3    23.1           0    0    0      0       1     0    0    0        0       \n",
      "4    38.8           0    0    0      0       0     0    0    0        0       \n",
      "..    ...          ..   ..   ..     ..      ..    ..   ..   ..       ..       \n",
      "118  20.6           0    0    1      0       0     0    0    0        0       \n",
      "119  25.4           0    0    0      0       1     0    0    0        0       \n",
      "120  33.1           0    0    0      0       0     0    1    0        0       \n",
      "121  34.1           0    0    0      1       0     0    0    0        0       \n",
      "122  25.4           0    0    0      0       0     0    0    1        0       \n",
      "\n",
      "     SEC  SunBelt  \n",
      "0    0    0        \n",
      "1    0    0        \n",
      "2    1    0        \n",
      "3    0    0        \n",
      "4    0    1        \n",
      "..  ..   ..        \n",
      "118  0    0        \n",
      "119  0    0        \n",
      "120  0    0        \n",
      "121  0    0        \n",
      "122  0    0        \n",
      "\n",
      "[123 rows x 49 columns]\n"
     ]
    }
   ],
   "source": [
    "#Add binary columns to coachesAgg for each conference in data set for modeling\n",
    "coachesAgg['AAC']=coachesAgg.Conference.apply(lambda x:1 if x =='AAC'else 0)\n",
    "coachesAgg['ACC']=coachesAgg.Conference.apply(lambda x:1 if x =='ACC'else 0)\n",
    "coachesAgg['Big12']=coachesAgg.Conference.apply(lambda x:1 if x =='Big 12'else 0)\n",
    "coachesAgg['BigTen']=coachesAgg.Conference.apply(lambda x:1 if x =='Big Ten'else 0)\n",
    "coachesAgg['CUSA']=coachesAgg.Conference.apply(lambda x:1 if x =='C-USA'else 0)\n",
    "coachesAgg['Ind']=coachesAgg.Conference.apply(lambda x:1 if x =='Ind.'else 0)\n",
    "coachesAgg['MAC']=coachesAgg.Conference.apply(lambda x:1 if x =='MAC'else 0)\n",
    "coachesAgg['MtnWest']=coachesAgg.Conference.apply(lambda x:1 if x =='Mt. West'else 0)\n",
    "coachesAgg['Pac12']=coachesAgg.Conference.apply(lambda x:1 if x =='Pac-12'else 0)\n",
    "coachesAgg['SEC']=coachesAgg.Conference.apply(lambda x:1 if x =='SEC'else 0)\n",
    "coachesAgg['SunBelt']=coachesAgg.Conference.apply(lambda x:1 if x =='Sun Belt'else 0)\n",
    "print(coachesAgg)\n"
   ]
  },
  {
   "cell_type": "code",
   "execution_count": 680,
   "metadata": {},
   "outputs": [
    {
     "name": "stdout",
     "output_type": "stream",
     "text": [
      "School                  object \n",
      "Conference              object \n",
      "Coach                   object \n",
      "Salary                  float64\n",
      "TotalPay                float64\n",
      "Bonus                   float64\n",
      "Stadium                 object \n",
      "StadiumCapacity         int64  \n",
      "StadiumAge              int64  \n",
      "2012GradSuccessRate     int64  \n",
      "YearsCoached            int64  \n",
      "Games                   int64  \n",
      "Wins                    int64  \n",
      "Losses                  int64  \n",
      "Ties                    int64  \n",
      "WinPercentage           float64\n",
      "BowlGames               int64  \n",
      "BowlWins                int64  \n",
      "BowlLosses              int64  \n",
      "BowlTies                int64  \n",
      "WinsPerYear             float64\n",
      "TouchdownsAllowed       int64  \n",
      "OPP XP                  int64  \n",
      "2PTAllowed              int64  \n",
      "OPP DXP                 int64  \n",
      "OPP FGM                 int64  \n",
      "SafetiesAllowed         int64  \n",
      "TotalPointsAllowed      int64  \n",
      "PointsPerGameAllowed    float64\n",
      "2019Games               int64  \n",
      "Touchdowns              int64  \n",
      "ExtraPoints             int64  \n",
      "2PT                     int64  \n",
      "DEF PTS                 int64  \n",
      "FieldGoals              int64  \n",
      "Safeties                int64  \n",
      "TotalPoints             int64  \n",
      "PointsPerGame           float64\n",
      "AAC                     int64  \n",
      "ACC                     int64  \n",
      "Big12                   int64  \n",
      "BigTen                  int64  \n",
      "CUSA                    int64  \n",
      "Ind                     int64  \n",
      "MAC                     int64  \n",
      "MtnWest                 int64  \n",
      "Pac12                   int64  \n",
      "SEC                     int64  \n",
      "SunBelt                 int64  \n",
      "dtype: object\n"
     ]
    }
   ],
   "source": [
    "#Check the datatypes for aggregate coach data\n",
    "print(coachesAgg.dtypes)"
   ]
  },
  {
   "cell_type": "code",
   "execution_count": 700,
   "metadata": {
    "scrolled": false
   },
   "outputs": [
    {
     "ename": "NameError",
     "evalue": "name 'describe' is not defined",
     "output_type": "error",
     "traceback": [
      "\u001b[1;31m---------------------------------------------------------------------------\u001b[0m",
      "\u001b[1;31mNameError\u001b[0m                                 Traceback (most recent call last)",
      "\u001b[1;32m<ipython-input-700-230931b5cf1a>\u001b[0m in \u001b[0;36m<module>\u001b[1;34m\u001b[0m\n\u001b[0;32m      1\u001b[0m \u001b[0mpd\u001b[0m\u001b[1;33m.\u001b[0m\u001b[0mset_option\u001b[0m\u001b[1;33m(\u001b[0m\u001b[1;34m'display.max_columns'\u001b[0m\u001b[1;33m,\u001b[0m \u001b[1;32mNone\u001b[0m\u001b[1;33m)\u001b[0m\u001b[1;33m\u001b[0m\u001b[1;33m\u001b[0m\u001b[0m\n\u001b[1;32m----> 2\u001b[1;33m \u001b[0mdescribe\u001b[0m\u001b[1;33m(\u001b[0m\u001b[0mcoachesAgg\u001b[0m\u001b[1;33m)\u001b[0m\u001b[1;33m\u001b[0m\u001b[1;33m\u001b[0m\u001b[0m\n\u001b[0m",
      "\u001b[1;31mNameError\u001b[0m: name 'describe' is not defined"
     ]
    }
   ],
   "source": [
    "pd.set_option('display.max_columns', None)\n",
    "describe(coachesAgg)"
   ]
  },
  {
   "cell_type": "code",
   "execution_count": 701,
   "metadata": {},
   "outputs": [
    {
     "data": {
      "text/plain": [
       "<matplotlib.axes._subplots.AxesSubplot at 0x19c93098f08>"
      ]
     },
     "execution_count": 701,
     "metadata": {},
     "output_type": "execute_result"
    },
    {
     "data": {
      "text/plain": [
       "Text(0.5, 1.0, 'Games Coached vs Coach Salary')"
      ]
     },
     "execution_count": 701,
     "metadata": {},
     "output_type": "execute_result"
    },
    {
     "data": {
      "text/plain": [
       "Text(0.5, 0, 'Games Coached')"
      ]
     },
     "execution_count": 701,
     "metadata": {},
     "output_type": "execute_result"
    },
    {
     "data": {
      "text/plain": [
       "Text(0, 0.5, 'Salary in US Dollars')"
      ]
     },
     "execution_count": 701,
     "metadata": {},
     "output_type": "execute_result"
    },
    {
     "data": {
      "text/plain": [
       "<Figure size 360x504 with 0 Axes>"
      ]
     },
     "execution_count": 701,
     "metadata": {},
     "output_type": "execute_result"
    },
    {
     "data": {
      "image/png": "[encoded data removed]",
      "text/plain": [
       "<Figure size 432x288 with 1 Axes>"
      ]
     },
     "metadata": {
      "needs_background": "light"
     },
     "output_type": "display_data"
    },
    {
     "data": {
      "text/plain": [
       "<Figure size 360x504 with 0 Axes>"
      ]
     },
     "metadata": {},
     "output_type": "display_data"
    }
   ],
   "source": [
    "#See if there is a visible link between Games and Salary for coaches\n",
    "coachesAgg.plot(x='Games', y='Salary', style='o') \n",
    "plt.title('Games Coached vs Coach Salary') \n",
    "plt.xlabel('Games Coached') \n",
    "plt.ylabel('Salary in US Dollars')\n",
    "plt.figure(figsize=(5,7))\n",
    "plt.show()"
   ]
  },
  {
   "cell_type": "code",
   "execution_count": 702,
   "metadata": {},
   "outputs": [
    {
     "data": {
      "text/plain": [
       "<matplotlib.axes._subplots.AxesSubplot at 0x19c92e63b48>"
      ]
     },
     "execution_count": 702,
     "metadata": {},
     "output_type": "execute_result"
    },
    {
     "data": {
      "text/plain": [
       "Text(0.5, 1.0, 'Avg Wins per Year vs Coach Salary')"
      ]
     },
     "execution_count": 702,
     "metadata": {},
     "output_type": "execute_result"
    },
    {
     "data": {
      "text/plain": [
       "Text(0.5, 0, 'Avg Wins per Year')"
      ]
     },
     "execution_count": 702,
     "metadata": {},
     "output_type": "execute_result"
    },
    {
     "data": {
      "text/plain": [
       "Text(0, 0.5, 'Salary in US Dollars')"
      ]
     },
     "execution_count": 702,
     "metadata": {},
     "output_type": "execute_result"
    },
    {
     "data": {
      "text/plain": [
       "<Figure size 360x504 with 0 Axes>"
      ]
     },
     "execution_count": 702,
     "metadata": {},
     "output_type": "execute_result"
    },
    {
     "data": {
      "image/png": "[encoded data removed]",
      "text/plain": [
       "<Figure size 432x288 with 1 Axes>"
      ]
     },
     "metadata": {
      "needs_background": "light"
     },
     "output_type": "display_data"
    },
    {
     "data": {
      "text/plain": [
       "<Figure size 360x504 with 0 Axes>"
      ]
     },
     "metadata": {},
     "output_type": "display_data"
    }
   ],
   "source": [
    "#See if there is a visible link between Wins Per Years Coached and Salary for coaches\n",
    "coachesAgg.plot(x='WinsPerYear', y='Salary', style='o') \n",
    "plt.title('Avg Wins per Year vs Coach Salary') \n",
    "plt.xlabel('Avg Wins per Year') \n",
    "plt.ylabel('Salary in US Dollars')\n",
    "plt.figure(figsize=(5,7))\n",
    "plt.show()"
   ]
  },
  {
   "cell_type": "code",
   "execution_count": 703,
   "metadata": {},
   "outputs": [
    {
     "data": {
      "text/plain": [
       "<matplotlib.axes._subplots.AxesSubplot at 0x19c930e80c8>"
      ]
     },
     "execution_count": 703,
     "metadata": {},
     "output_type": "execute_result"
    },
    {
     "data": {
      "text/plain": [
       "Text(0.5, 1.0, 'Stadium Capacity vs Coach Salary')"
      ]
     },
     "execution_count": 703,
     "metadata": {},
     "output_type": "execute_result"
    },
    {
     "data": {
      "text/plain": [
       "Text(0.5, 0, 'Stadium Capacity')"
      ]
     },
     "execution_count": 703,
     "metadata": {},
     "output_type": "execute_result"
    },
    {
     "data": {
      "text/plain": [
       "Text(0, 0.5, 'Salary in US Dollars')"
      ]
     },
     "execution_count": 703,
     "metadata": {},
     "output_type": "execute_result"
    },
    {
     "data": {
      "text/plain": [
       "<Figure size 360x504 with 0 Axes>"
      ]
     },
     "execution_count": 703,
     "metadata": {},
     "output_type": "execute_result"
    },
    {
     "data": {
      "image/png": "[encoded data removed]",
      "text/plain": [
       "<Figure size 432x288 with 1 Axes>"
      ]
     },
     "metadata": {
      "needs_background": "light"
     },
     "output_type": "display_data"
    },
    {
     "data": {
      "text/plain": [
       "<Figure size 360x504 with 0 Axes>"
      ]
     },
     "metadata": {},
     "output_type": "display_data"
    }
   ],
   "source": [
    "#See if there is a visible link between Stadium Capacity and Salary for coaches\n",
    "coachesAgg.plot(x='StadiumCapacity', y='Salary', style='o') \n",
    "plt.title('Stadium Capacity vs Coach Salary') \n",
    "plt.xlabel('Stadium Capacity') \n",
    "plt.ylabel('Salary in US Dollars')\n",
    "plt.figure(figsize=(5,7))\n",
    "plt.show()"
   ]
  },
  {
   "cell_type": "code",
   "execution_count": 704,
   "metadata": {},
   "outputs": [
    {
     "data": {
      "text/plain": [
       "<matplotlib.collections.PathCollection at 0x19c91172688>"
      ]
     },
     "execution_count": 704,
     "metadata": {},
     "output_type": "execute_result"
    },
    {
     "data": {
      "text/plain": [
       "Text(0.5, 1.0, 'Conference vs Coach Salary')"
      ]
     },
     "execution_count": 704,
     "metadata": {},
     "output_type": "execute_result"
    },
    {
     "data": {
      "text/plain": [
       "Text(0.5, 0, 'Salary in US Dollars')"
      ]
     },
     "execution_count": 704,
     "metadata": {},
     "output_type": "execute_result"
    },
    {
     "data": {
      "text/plain": [
       "Text(0, 0.5, 'Conference')"
      ]
     },
     "execution_count": 704,
     "metadata": {},
     "output_type": "execute_result"
    },
    {
     "data": {
      "text/plain": [
       "<Figure size 360x504 with 0 Axes>"
      ]
     },
     "execution_count": 704,
     "metadata": {},
     "output_type": "execute_result"
    },
    {
     "data": {
      "image/png": "[encoded data removed]",
      "text/plain": [
       "<Figure size 432x288 with 1 Axes>"
      ]
     },
     "metadata": {
      "needs_background": "light"
     },
     "output_type": "display_data"
    },
    {
     "data": {
      "text/plain": [
       "<Figure size 360x504 with 0 Axes>"
      ]
     },
     "metadata": {},
     "output_type": "display_data"
    }
   ],
   "source": [
    "#See if there is a visible link between Conference and Salary for coaches\n",
    "plt.scatter(x=coachesAgg['Salary'], y=coachesAgg['Conference']) \n",
    "plt.title('Conference vs Coach Salary') \n",
    "plt.xlabel('Salary in US Dollars')\n",
    "plt.ylabel('Conference') \n",
    "plt.tight_layout()\n",
    "plt.figure(figsize=(5,7))\n",
    "plt.show()"
   ]
  },
  {
   "cell_type": "code",
   "execution_count": 705,
   "metadata": {},
   "outputs": [
    {
     "data": {
      "text/plain": [
       "LinearRegression(copy_X=True, fit_intercept=True, n_jobs=None, normalize=False)"
      ]
     },
     "execution_count": 705,
     "metadata": {},
     "output_type": "execute_result"
    }
   ],
   "source": [
    "#Basic Linear regression model\n",
    "from sklearn.linear_model import LinearRegression\n",
    "x = coachesAgg[['StadiumCapacity','StadiumAge','2012GradSuccessRate'\n",
    "                ,'Games', 'Wins','BowlGames','BowlWins','PointsPerGame'\n",
    "                ,'PointsPerGameAllowed','2019Games','AAC','ACC','Big12'\n",
    "                ,'BigTen','CUSA','Ind','MAC','MtnWest','Pac12','SEC','SunBelt']]\n",
    "y = coachesAgg['Salary']\n",
    "SalaryModel = LinearRegression()\n",
    "SalaryModel.fit(x, y)\n"
   ]
  },
  {
   "cell_type": "code",
   "execution_count": 706,
   "metadata": {},
   "outputs": [
    {
     "name": "stdout",
     "output_type": "stream",
     "text": [
      "r_sq: 0.8594563054400856\n",
      "intercept: 1906834.1897909003\n",
      "Coefficients: [ 2.23947572e+01 -5.19299255e+02 -6.23452080e+03 -1.66568429e+04\n",
      "  3.61285502e+04 -4.74454989e+04  8.55057196e+03  2.07852736e+04\n",
      " -1.77201320e+03 -7.58821272e+04 -3.90857515e+05  7.74113198e+05\n",
      "  1.08253076e+06  1.37896549e+06 -9.29707675e+05 -7.40432449e+05\n",
      " -9.48774993e+05 -9.24055658e+05  1.99494823e+05  1.53358350e+06\n",
      " -1.03485948e+06]\n"
     ]
    }
   ],
   "source": [
    "#See basic stats values\n",
    "r_sq=SalaryModel.score(x,y)\n",
    "print('r_sq:',r_sq)\n",
    "print('intercept:',SalaryModel.intercept_)\n",
    "print('Coefficients:', SalaryModel.coef_)"
   ]
  },
  {
   "cell_type": "code",
   "execution_count": 707,
   "metadata": {},
   "outputs": [],
   "source": [
    "#Create ML regression model with train/test\n",
    "#Use sklearn to develop make train and test data from coachesAgg\n",
    "from sklearn.model_selection import train_test_split \n",
    "X = coachesAgg[['StadiumCapacity','StadiumAge','2012GradSuccessRate'\n",
    "                ,'Games', 'Wins','BowlGames','BowlWins','PointsPerGame'\n",
    "                ,'PointsPerGameAllowed','2019Games']]\n",
    "y = coachesAgg['Salary']\n",
    "X_train, X_test, y_train, y_test = train_test_split(X,y,test_size=0.2, random_state=10)\n"
   ]
  },
  {
   "cell_type": "code",
   "execution_count": 708,
   "metadata": {
    "scrolled": true
   },
   "outputs": [
    {
     "data": {
      "text/plain": [
       "LinearRegression(copy_X=True, fit_intercept=True, n_jobs=None, normalize=False)"
      ]
     },
     "execution_count": 708,
     "metadata": {},
     "output_type": "execute_result"
    }
   ],
   "source": [
    "#Train the model using 80% of coachesAgg data\n",
    "from sklearn.linear_model import LinearRegression\n",
    "SalaryModel = LinearRegression()\n",
    "SalaryModel.fit(X_train, y_train)\n",
    "Salary_Predicted=SalaryModel.predict(X_test)"
   ]
  },
  {
   "cell_type": "code",
   "execution_count": 709,
   "metadata": {},
   "outputs": [
    {
     "name": "stdout",
     "output_type": "stream",
     "text": [
      "Coefficients: \n",
      " [ 5.12643964e+01  3.61557092e+03  6.93091374e+01 -9.58038405e+03\n",
      "  1.01718231e+04  2.74863997e+04  1.90733703e+05  4.79292412e+03\n",
      "  7.99137586e+03 -1.43365632e+05]\n"
     ]
    }
   ],
   "source": [
    "#See coefficients of SalaryModel\n",
    "print('Coefficients: \\n', SalaryModel.coef_)"
   ]
  },
  {
   "cell_type": "code",
   "execution_count": 710,
   "metadata": {},
   "outputs": [
    {
     "name": "stdout",
     "output_type": "stream",
     "text": [
      "R squared:  0.7320086368302925\n"
     ]
    }
   ],
   "source": [
    "#See r squared of Salary\n",
    "from sklearn.metrics import r2_score\n",
    "print('R squared: ',\n",
    "     r2_score(y_test,Salary_Predicted))"
   ]
  },
  {
   "cell_type": "code",
   "execution_count": 711,
   "metadata": {},
   "outputs": [
    {
     "data": {
      "text/plain": [
       "[<matplotlib.lines.Line2D at 0x19c92eb2608>]"
      ]
     },
     "execution_count": 711,
     "metadata": {},
     "output_type": "execute_result"
    },
    {
     "data": {
      "text/plain": [
       "<matplotlib.collections.PathCollection at 0x19c911479c8>"
      ]
     },
     "execution_count": 711,
     "metadata": {},
     "output_type": "execute_result"
    },
    {
     "data": {
      "text/plain": [
       "Text(0.5, 1.0, 'Actual Coach Salary vs Predicted Coach Salary')"
      ]
     },
     "execution_count": 711,
     "metadata": {},
     "output_type": "execute_result"
    },
    {
     "data": {
      "text/plain": [
       "([], <a list of 0 Text xticklabel objects>)"
      ]
     },
     "execution_count": 711,
     "metadata": {},
     "output_type": "execute_result"
    },
    {
     "data": {
      "text/plain": [
       "([], <a list of 0 Text yticklabel objects>)"
      ]
     },
     "execution_count": 711,
     "metadata": {},
     "output_type": "execute_result"
    },
    {
     "data": {
      "text/plain": [
       "<Figure size 360x504 with 0 Axes>"
      ]
     },
     "execution_count": 711,
     "metadata": {},
     "output_type": "execute_result"
    },
    {
     "data": {
      "text/plain": [
       "<function matplotlib.pyplot.show(*args, **kw)>"
      ]
     },
     "execution_count": 711,
     "metadata": {},
     "output_type": "execute_result"
    },
    {
     "data": {
      "image/png": "[encoded data removed]",
      "text/plain": [
       "<Figure size 432x288 with 1 Axes>"
      ]
     },
     "metadata": {},
     "output_type": "display_data"
    },
    {
     "data": {
      "text/plain": [
       "<Figure size 360x504 with 0 Axes>"
      ]
     },
     "metadata": {},
     "output_type": "display_data"
    }
   ],
   "source": [
    "#Plot Salary results\n",
    "plt.plot(y_test,y_test, color='black')\n",
    "plt.scatter(y_test,Salary_Predicted, color='blue',linewidth=3)\n",
    "\n",
    "plt.title('Actual Coach Salary vs Predicted Coach Salary') \n",
    "plt.xticks(())\n",
    "plt.yticks(())\n",
    "plt.figure(figsize=(5,7))\n",
    "plt.show"
   ]
  },
  {
   "cell_type": "code",
   "execution_count": null,
   "metadata": {},
   "outputs": [],
   "source": []
  }
 ],
 "metadata": {
  "kernelspec": {
   "display_name": "Python 3",
   "language": "python",
   "name": "python3"
  },
  "language_info": {
   "codemirror_mode": {
    "name": "ipython",
    "version": 3
   },
   "file_extension": ".py",
   "mimetype": "text/x-python",
   "name": "python",
   "nbconvert_exporter": "python",
   "pygments_lexer": "ipython3",
   "version": "3.7.4"
  }
 },
 "nbformat": 4,
 "nbformat_minor": 2
}
